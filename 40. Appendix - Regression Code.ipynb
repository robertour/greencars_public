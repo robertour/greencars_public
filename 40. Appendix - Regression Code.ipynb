{
 "cells": [
  {
   "cell_type": "code",
   "execution_count": 1,
   "metadata": {
    "ExecuteTime": {
     "end_time": "2021-02-09T16:54:13.731588Z",
     "start_time": "2021-02-09T16:54:10.464Z"
    }
   },
   "outputs": [
    {
     "name": "stderr",
     "output_type": "stream",
     "text": [
      "Loading required package: Matrix\n",
      "\n",
      "\n",
      "Attaching package: ‘lmerTest’\n",
      "\n",
      "\n",
      "The following object is masked from ‘package:lme4’:\n",
      "\n",
      "    lmer\n",
      "\n",
      "\n",
      "The following object is masked from ‘package:stats’:\n",
      "\n",
      "    step\n",
      "\n",
      "\n",
      "#refugeeswelcome\n",
      "\n",
      "Registered S3 method overwritten by 'broom.mixed':\n",
      "  method      from \n",
      "  tidy.gamlss broom\n",
      "\n"
     ]
    }
   ],
   "source": [
    "library(lme4)\n",
    "library(lmerTest)\n",
    "library(sjPlot)\n",
    "library(broom.mixed)\n"
   ]
  },
  {
   "cell_type": "markdown",
   "metadata": {},
   "source": [
    "# Load data"
   ]
  },
  {
   "cell_type": "code",
   "execution_count": 2,
   "metadata": {
    "ExecuteTime": {
     "end_time": "2021-02-09T16:54:13.841401Z",
     "start_time": "2021-02-09T16:54:10.470Z"
    },
    "scrolled": false
   },
   "outputs": [],
   "source": [
    "df <- read.csv(\"output/critical_long_format.csv\")\n",
    "#df <- read.csv(\"output/critical_long_format_with_dummy.csv\")\n",
    "df$ID <- df$client_id"
   ]
  },
  {
   "cell_type": "markdown",
   "metadata": {},
   "source": [
    "# Data preparation"
   ]
  },
  {
   "cell_type": "code",
   "execution_count": 3,
   "metadata": {
    "ExecuteTime": {
     "end_time": "2021-02-09T16:54:13.873445Z",
     "start_time": "2021-02-09T16:54:10.479Z"
    }
   },
   "outputs": [],
   "source": [
    "# center binary variables\n",
    "df$critical_cent <- scale(df$critical, scale=F)\n",
    "df$mail_cent <- scale(df$mailed, scale=F)\n",
    "df$mailday_cent <- scale(df$mailday, scale=F)\n",
    "df$weekday_cent <- scale(df$is_weekday, scale=F)\n"
   ]
  },
  {
   "cell_type": "code",
   "execution_count": 4,
   "metadata": {
    "ExecuteTime": {
     "end_time": "2021-02-09T16:54:13.917337Z",
     "start_time": "2021-02-09T16:54:10.485Z"
    }
   },
   "outputs": [],
   "source": [
    "# factors for green hours, mail and mailday\n",
    "df$critical_f <- as.factor(df$critical)\n",
    "levels(df$critical_f) <- c(\"No green hours\",\"Green hours (11am to 3pm)\")\n",
    "df$mail_f <- as.factor(df$mailed)\n",
    "levels(df$mail_f) <- c(\"No mail\",\"Green mail\")\n",
    "df$mail_day_f <- as.factor(df$mailday)\n",
    "levels(df$mail_day_f) <- c(\"No mail for day\",\"Mail for day\")\n",
    "df$weekday_f <- as.factor(df$is_weekday)\n",
    "levels(df$weekday_f) <- c(\"Mo-Fr\",\"Sa-Su\")"
   ]
  },
  {
   "cell_type": "code",
   "execution_count": 5,
   "metadata": {
    "ExecuteTime": {
     "end_time": "2021-02-09T16:54:13.962315Z",
     "start_time": "2021-02-09T16:54:10.489Z"
    }
   },
   "outputs": [],
   "source": [
    "df_maildays = df[df$mailday == 1,]\n",
    "df_nomaildays = df[df$mailday == 0,]\n",
    "\n",
    "df_nomail = df[df$mailed == 0,]"
   ]
  },
  {
   "cell_type": "markdown",
   "metadata": {},
   "source": [
    "# Regression Tables"
   ]
  },
  {
   "cell_type": "markdown",
   "metadata": {},
   "source": [
    "## A.1. Model 1 - Interaction of mail and critical time on charges and kWh\n",
    "\n",
    "### Dependant variable:  Number of charges"
   ]
  },
  {
   "cell_type": "code",
   "execution_count": 6,
   "metadata": {
    "ExecuteTime": {
     "end_time": "2021-02-09T16:54:21.984803Z",
     "start_time": "2021-02-09T16:54:10.498Z"
    }
   },
   "outputs": [
    {
     "data": {
      "text/plain": [
       "Generalized linear mixed model fit by maximum likelihood (Laplace\n",
       "  Approximation) [glmerMod]\n",
       " Family: binomial  ( logit )\n",
       "Formula: charge_started ~ mail_cent * critical_cent + (1 | ID)\n",
       "   Data: df_maildays\n",
       "\n",
       "     AIC      BIC   logLik deviance df.resid \n",
       "  1000.3   1035.4   -495.1    990.3     8263 \n",
       "\n",
       "Scaled residuals: \n",
       "    Min      1Q  Median      3Q     Max \n",
       "-1.0797 -0.0684 -0.0240 -0.0205 15.9540 \n",
       "\n",
       "Random effects:\n",
       " Groups Name        Variance Std.Dev.\n",
       " ID     (Intercept) 6.35     2.52    \n",
       "Number of obs: 8268, groups:  ID, 318\n",
       "\n",
       "Fixed effects:\n",
       "                        Estimate Std. Error z value Pr(>|z|)    \n",
       "(Intercept)             -7.46295    0.57105 -13.069  < 2e-16 ***\n",
       "mail_cent                1.52215    0.28451   5.350 8.80e-08 ***\n",
       "critical_cent           -0.01644    0.38082  -0.043    0.966    \n",
       "mail_cent:critical_cent  2.46177    0.54242   4.539 5.67e-06 ***\n",
       "---\n",
       "Signif. codes:  0 ‘***’ 0.001 ‘**’ 0.01 ‘*’ 0.05 ‘.’ 0.1 ‘ ’ 1\n",
       "\n",
       "Correlation of Fixed Effects:\n",
       "            (Intr) ml_cnt crtcl_\n",
       "mail_cent   -0.393              \n",
       "criticl_cnt  0.044 -0.176       \n",
       "ml_cnt:crt_ -0.139 -0.066 -0.746"
      ]
     },
     "metadata": {},
     "output_type": "display_data"
    },
    {
     "data": {
      "text/html": [
       "<table>\n",
       "<caption>A matrix: 4 × 2 of type dbl</caption>\n",
       "<thead>\n",
       "\t<tr><th></th><th scope=col>2.5 %</th><th scope=col>97.5 %</th></tr>\n",
       "</thead>\n",
       "<tbody>\n",
       "\t<tr><th scope=row>(Intercept)</th><td>-8.5821812</td><td>-6.3437256</td></tr>\n",
       "\t<tr><th scope=row>mail_cent</th><td> 0.9645156</td><td> 2.0797905</td></tr>\n",
       "\t<tr><th scope=row>critical_cent</th><td>-0.7628417</td><td> 0.7299531</td></tr>\n",
       "\t<tr><th scope=row>mail_cent:critical_cent</th><td> 1.3986507</td><td> 3.5248957</td></tr>\n",
       "</tbody>\n",
       "</table>\n"
      ],
      "text/latex": [
       "A matrix: 4 × 2 of type dbl\n",
       "\\begin{tabular}{r|ll}\n",
       "  & 2.5 \\% & 97.5 \\%\\\\\n",
       "\\hline\n",
       "\t(Intercept) & -8.5821812 & -6.3437256\\\\\n",
       "\tmail\\_cent &  0.9645156 &  2.0797905\\\\\n",
       "\tcritical\\_cent & -0.7628417 &  0.7299531\\\\\n",
       "\tmail\\_cent:critical\\_cent &  1.3986507 &  3.5248957\\\\\n",
       "\\end{tabular}\n"
      ],
      "text/markdown": [
       "\n",
       "A matrix: 4 × 2 of type dbl\n",
       "\n",
       "| <!--/--> | 2.5 % | 97.5 % |\n",
       "|---|---|---|\n",
       "| (Intercept) | -8.5821812 | -6.3437256 |\n",
       "| mail_cent |  0.9645156 |  2.0797905 |\n",
       "| critical_cent | -0.7628417 |  0.7299531 |\n",
       "| mail_cent:critical_cent |  1.3986507 |  3.5248957 |\n",
       "\n"
      ],
      "text/plain": [
       "                        2.5 %      97.5 %    \n",
       "(Intercept)             -8.5821812 -6.3437256\n",
       "mail_cent                0.9645156  2.0797905\n",
       "critical_cent           -0.7628417  0.7299531\n",
       "mail_cent:critical_cent  1.3986507  3.5248957"
      ]
     },
     "metadata": {},
     "output_type": "display_data"
    },
    {
     "data": {
      "text/html": [
       "<table>\n",
       "<caption>A tibble: 4 × 8</caption>\n",
       "<thead>\n",
       "\t<tr><th scope=col>effect</th><th scope=col>term</th><th scope=col>estimate</th><th scope=col>std.error</th><th scope=col>statistic</th><th scope=col>p.value</th><th scope=col>conf.low</th><th scope=col>conf.high</th></tr>\n",
       "\t<tr><th scope=col>&lt;chr&gt;</th><th scope=col>&lt;chr&gt;</th><th scope=col>&lt;dbl&gt;</th><th scope=col>&lt;dbl&gt;</th><th scope=col>&lt;dbl&gt;</th><th scope=col>&lt;dbl&gt;</th><th scope=col>&lt;dbl&gt;</th><th scope=col>&lt;dbl&gt;</th></tr>\n",
       "</thead>\n",
       "<tbody>\n",
       "\t<tr><td>fixed</td><td>(Intercept)            </td><td>5.739585e-04</td><td>0.0003277562</td><td>-13.06893873</td><td>4.955200e-39</td><td>0.0001874157</td><td> 0.001757741</td></tr>\n",
       "\t<tr><td>fixed</td><td>mail_cent              </td><td>4.582080e+00</td><td>1.3036664939</td><td>  5.35000860</td><td>8.795005e-08</td><td>2.6235164965</td><td> 8.002792029</td></tr>\n",
       "\t<tr><td>fixed</td><td>critical_cent          </td><td>9.836902e-01</td><td>0.3746108744</td><td> -0.04318104</td><td>9.655572e-01</td><td>0.4663393366</td><td> 2.074983373</td></tr>\n",
       "\t<tr><td>fixed</td><td>mail_cent:critical_cent</td><td>1.172558e+01</td><td>6.3601845696</td><td>  4.53850494</td><td>5.665447e-06</td><td>4.0497318034</td><td>33.950231156</td></tr>\n",
       "</tbody>\n",
       "</table>\n"
      ],
      "text/latex": [
       "A tibble: 4 × 8\n",
       "\\begin{tabular}{llllllll}\n",
       " effect & term & estimate & std.error & statistic & p.value & conf.low & conf.high\\\\\n",
       " <chr> & <chr> & <dbl> & <dbl> & <dbl> & <dbl> & <dbl> & <dbl>\\\\\n",
       "\\hline\n",
       "\t fixed & (Intercept)             & 5.739585e-04 & 0.0003277562 & -13.06893873 & 4.955200e-39 & 0.0001874157 &  0.001757741\\\\\n",
       "\t fixed & mail\\_cent               & 4.582080e+00 & 1.3036664939 &   5.35000860 & 8.795005e-08 & 2.6235164965 &  8.002792029\\\\\n",
       "\t fixed & critical\\_cent           & 9.836902e-01 & 0.3746108744 &  -0.04318104 & 9.655572e-01 & 0.4663393366 &  2.074983373\\\\\n",
       "\t fixed & mail\\_cent:critical\\_cent & 1.172558e+01 & 6.3601845696 &   4.53850494 & 5.665447e-06 & 4.0497318034 & 33.950231156\\\\\n",
       "\\end{tabular}\n"
      ],
      "text/markdown": [
       "\n",
       "A tibble: 4 × 8\n",
       "\n",
       "| effect &lt;chr&gt; | term &lt;chr&gt; | estimate &lt;dbl&gt; | std.error &lt;dbl&gt; | statistic &lt;dbl&gt; | p.value &lt;dbl&gt; | conf.low &lt;dbl&gt; | conf.high &lt;dbl&gt; |\n",
       "|---|---|---|---|---|---|---|---|\n",
       "| fixed | (Intercept)             | 5.739585e-04 | 0.0003277562 | -13.06893873 | 4.955200e-39 | 0.0001874157 |  0.001757741 |\n",
       "| fixed | mail_cent               | 4.582080e+00 | 1.3036664939 |   5.35000860 | 8.795005e-08 | 2.6235164965 |  8.002792029 |\n",
       "| fixed | critical_cent           | 9.836902e-01 | 0.3746108744 |  -0.04318104 | 9.655572e-01 | 0.4663393366 |  2.074983373 |\n",
       "| fixed | mail_cent:critical_cent | 1.172558e+01 | 6.3601845696 |   4.53850494 | 5.665447e-06 | 4.0497318034 | 33.950231156 |\n",
       "\n"
      ],
      "text/plain": [
       "  effect term                    estimate     std.error    statistic   \n",
       "1 fixed  (Intercept)             5.739585e-04 0.0003277562 -13.06893873\n",
       "2 fixed  mail_cent               4.582080e+00 1.3036664939   5.35000860\n",
       "3 fixed  critical_cent           9.836902e-01 0.3746108744  -0.04318104\n",
       "4 fixed  mail_cent:critical_cent 1.172558e+01 6.3601845696   4.53850494\n",
       "  p.value      conf.low     conf.high   \n",
       "1 4.955200e-39 0.0001874157  0.001757741\n",
       "2 8.795005e-08 2.6235164965  8.002792029\n",
       "3 9.655572e-01 0.4663393366  2.074983373\n",
       "4 5.665447e-06 4.0497318034 33.950231156"
      ]
     },
     "metadata": {},
     "output_type": "display_data"
    }
   ],
   "source": [
    "m1 <- glmer(charge_started ~ mail_cent*critical_cent+(1|ID),data=df_maildays,family = binomial(link = \"logit\"))\n",
    "summary(m1)\n",
    "confint(m1,parm=\"beta_\",method=\"Wald\")\n",
    "tidy(m1,conf.int=TRUE,exponentiate=TRUE,effects=\"fixed\")\n"
   ]
  },
  {
   "cell_type": "markdown",
   "metadata": {},
   "source": [
    "### Dependant variable:  kWh"
   ]
  },
  {
   "cell_type": "code",
   "execution_count": 7,
   "metadata": {
    "ExecuteTime": {
     "end_time": "2021-02-09T16:54:22.433452Z",
     "start_time": "2021-02-09T16:54:10.507Z"
    }
   },
   "outputs": [
    {
     "data": {
      "text/plain": [
       "Linear mixed model fit by REML. t-tests use Satterthwaite's method [\n",
       "lmerModLmerTest]\n",
       "Formula: charge ~ mail_cent * critical_cent + (1 | ID)\n",
       "   Data: df_maildays\n",
       "\n",
       "REML criterion at convergence: 29370\n",
       "\n",
       "Scaled residuals: \n",
       "    Min      1Q  Median      3Q     Max \n",
       "-2.3239 -0.2412  0.0067  0.0540 25.5930 \n",
       "\n",
       "Random effects:\n",
       " Groups   Name        Variance Std.Dev.\n",
       " ID       (Intercept) 0.179    0.4231  \n",
       " Residual             1.946    1.3948  \n",
       "Number of obs: 8268, groups:  ID, 318\n",
       "\n",
       "Fixed effects:\n",
       "                         Estimate Std. Error        df t value Pr(>|t|)    \n",
       "(Intercept)             7.034e-02  3.017e-02 4.094e+02   2.331   0.0202 *  \n",
       "mail_cent               2.602e-01  3.152e-02 8.211e+03   8.255  < 2e-16 ***\n",
       "critical_cent           3.073e-02  3.697e-02 7.947e+03   0.831   0.4060    \n",
       "mail_cent:critical_cent 3.877e-01  6.138e-02 7.947e+03   6.316 2.83e-10 ***\n",
       "---\n",
       "Signif. codes:  0 ‘***’ 0.001 ‘**’ 0.01 ‘*’ 0.05 ‘.’ 0.1 ‘ ’ 1\n",
       "\n",
       "Correlation of Fixed Effects:\n",
       "            (Intr) ml_cnt crtcl_\n",
       "mail_cent   -0.351              \n",
       "criticl_cnt  0.000  0.000       \n",
       "ml_cnt:crt_  0.000  0.000 -0.558"
      ]
     },
     "metadata": {},
     "output_type": "display_data"
    },
    {
     "data": {
      "text/html": [
       "<table>\n",
       "<caption>A matrix: 4 × 2 of type dbl</caption>\n",
       "<thead>\n",
       "\t<tr><th></th><th scope=col>2.5 %</th><th scope=col>97.5 %</th></tr>\n",
       "</thead>\n",
       "<tbody>\n",
       "\t<tr><th scope=row>(Intercept)</th><td> 0.01120169</td><td>0.1294822</td></tr>\n",
       "\t<tr><th scope=row>mail_cent</th><td> 0.19843829</td><td>0.3220051</td></tr>\n",
       "\t<tr><th scope=row>critical_cent</th><td>-0.04174295</td><td>0.1031961</td></tr>\n",
       "\t<tr><th scope=row>mail_cent:critical_cent</th><td> 0.26735456</td><td>0.5079617</td></tr>\n",
       "</tbody>\n",
       "</table>\n"
      ],
      "text/latex": [
       "A matrix: 4 × 2 of type dbl\n",
       "\\begin{tabular}{r|ll}\n",
       "  & 2.5 \\% & 97.5 \\%\\\\\n",
       "\\hline\n",
       "\t(Intercept) &  0.01120169 & 0.1294822\\\\\n",
       "\tmail\\_cent &  0.19843829 & 0.3220051\\\\\n",
       "\tcritical\\_cent & -0.04174295 & 0.1031961\\\\\n",
       "\tmail\\_cent:critical\\_cent &  0.26735456 & 0.5079617\\\\\n",
       "\\end{tabular}\n"
      ],
      "text/markdown": [
       "\n",
       "A matrix: 4 × 2 of type dbl\n",
       "\n",
       "| <!--/--> | 2.5 % | 97.5 % |\n",
       "|---|---|---|\n",
       "| (Intercept) |  0.01120169 | 0.1294822 |\n",
       "| mail_cent |  0.19843829 | 0.3220051 |\n",
       "| critical_cent | -0.04174295 | 0.1031961 |\n",
       "| mail_cent:critical_cent |  0.26735456 | 0.5079617 |\n",
       "\n"
      ],
      "text/plain": [
       "                        2.5 %       97.5 %   \n",
       "(Intercept)              0.01120169 0.1294822\n",
       "mail_cent                0.19843829 0.3220051\n",
       "critical_cent           -0.04174295 0.1031961\n",
       "mail_cent:critical_cent  0.26735456 0.5079617"
      ]
     },
     "metadata": {},
     "output_type": "display_data"
    },
    {
     "data": {
      "text/html": [
       "<table>\n",
       "<caption>A tibble: 4 × 9</caption>\n",
       "<thead>\n",
       "\t<tr><th scope=col>effect</th><th scope=col>term</th><th scope=col>estimate</th><th scope=col>std.error</th><th scope=col>statistic</th><th scope=col>df</th><th scope=col>p.value</th><th scope=col>conf.low</th><th scope=col>conf.high</th></tr>\n",
       "\t<tr><th scope=col>&lt;chr&gt;</th><th scope=col>&lt;chr&gt;</th><th scope=col>&lt;dbl&gt;</th><th scope=col>&lt;dbl&gt;</th><th scope=col>&lt;dbl&gt;</th><th scope=col>&lt;dbl&gt;</th><th scope=col>&lt;dbl&gt;</th><th scope=col>&lt;dbl&gt;</th><th scope=col>&lt;dbl&gt;</th></tr>\n",
       "</thead>\n",
       "<tbody>\n",
       "\t<tr><td>fixed</td><td>(Intercept)            </td><td>1.072875</td><td>0.03237311</td><td>2.3311984</td><td> 409.3851</td><td>2.022755e-02</td><td>1.0112647</td><td>1.138239</td></tr>\n",
       "\t<tr><td>fixed</td><td>mail_cent              </td><td>1.297218</td><td>0.04089182</td><td>8.2550533</td><td>8211.4038</td><td>1.754762e-16</td><td>1.2194968</td><td>1.379892</td></tr>\n",
       "\t<tr><td>fixed</td><td>critical_cent          </td><td>1.031204</td><td>0.03812869</td><td>0.8310114</td><td>7946.9230</td><td>4.059922e-01</td><td>0.9591163</td><td>1.108709</td></tr>\n",
       "\t<tr><td>fixed</td><td>mail_cent:critical_cent</td><td>1.473526</td><td>0.09044576</td><td>6.3156560</td><td>7946.9230</td><td>2.834794e-10</td><td>1.3065036</td><td>1.661900</td></tr>\n",
       "</tbody>\n",
       "</table>\n"
      ],
      "text/latex": [
       "A tibble: 4 × 9\n",
       "\\begin{tabular}{lllllllll}\n",
       " effect & term & estimate & std.error & statistic & df & p.value & conf.low & conf.high\\\\\n",
       " <chr> & <chr> & <dbl> & <dbl> & <dbl> & <dbl> & <dbl> & <dbl> & <dbl>\\\\\n",
       "\\hline\n",
       "\t fixed & (Intercept)             & 1.072875 & 0.03237311 & 2.3311984 &  409.3851 & 2.022755e-02 & 1.0112647 & 1.138239\\\\\n",
       "\t fixed & mail\\_cent               & 1.297218 & 0.04089182 & 8.2550533 & 8211.4038 & 1.754762e-16 & 1.2194968 & 1.379892\\\\\n",
       "\t fixed & critical\\_cent           & 1.031204 & 0.03812869 & 0.8310114 & 7946.9230 & 4.059922e-01 & 0.9591163 & 1.108709\\\\\n",
       "\t fixed & mail\\_cent:critical\\_cent & 1.473526 & 0.09044576 & 6.3156560 & 7946.9230 & 2.834794e-10 & 1.3065036 & 1.661900\\\\\n",
       "\\end{tabular}\n"
      ],
      "text/markdown": [
       "\n",
       "A tibble: 4 × 9\n",
       "\n",
       "| effect &lt;chr&gt; | term &lt;chr&gt; | estimate &lt;dbl&gt; | std.error &lt;dbl&gt; | statistic &lt;dbl&gt; | df &lt;dbl&gt; | p.value &lt;dbl&gt; | conf.low &lt;dbl&gt; | conf.high &lt;dbl&gt; |\n",
       "|---|---|---|---|---|---|---|---|---|\n",
       "| fixed | (Intercept)             | 1.072875 | 0.03237311 | 2.3311984 |  409.3851 | 2.022755e-02 | 1.0112647 | 1.138239 |\n",
       "| fixed | mail_cent               | 1.297218 | 0.04089182 | 8.2550533 | 8211.4038 | 1.754762e-16 | 1.2194968 | 1.379892 |\n",
       "| fixed | critical_cent           | 1.031204 | 0.03812869 | 0.8310114 | 7946.9230 | 4.059922e-01 | 0.9591163 | 1.108709 |\n",
       "| fixed | mail_cent:critical_cent | 1.473526 | 0.09044576 | 6.3156560 | 7946.9230 | 2.834794e-10 | 1.3065036 | 1.661900 |\n",
       "\n"
      ],
      "text/plain": [
       "  effect term                    estimate std.error  statistic df       \n",
       "1 fixed  (Intercept)             1.072875 0.03237311 2.3311984  409.3851\n",
       "2 fixed  mail_cent               1.297218 0.04089182 8.2550533 8211.4038\n",
       "3 fixed  critical_cent           1.031204 0.03812869 0.8310114 7946.9230\n",
       "4 fixed  mail_cent:critical_cent 1.473526 0.09044576 6.3156560 7946.9230\n",
       "  p.value      conf.low  conf.high\n",
       "1 2.022755e-02 1.0112647 1.138239 \n",
       "2 1.754762e-16 1.2194968 1.379892 \n",
       "3 4.059922e-01 0.9591163 1.108709 \n",
       "4 2.834794e-10 1.3065036 1.661900 "
      ]
     },
     "metadata": {},
     "output_type": "display_data"
    }
   ],
   "source": [
    "m2 <- lmer(charge ~ mail_cent*critical_cent+(1|ID),data=df_maildays)\n",
    "summary(m2)\n",
    "confint(m2,parm=\"beta_\",method=\"Wald\")\n",
    "tidy(m2,conf.int=TRUE,exponentiate=TRUE,effects=\"fixed\")"
   ]
  },
  {
   "cell_type": "markdown",
   "metadata": {},
   "source": [
    "## Model 2 – Weekday and no-event day addition to regression model\n",
    "### Dependant variable:  Number of charges"
   ]
  },
  {
   "cell_type": "code",
   "execution_count": 8,
   "metadata": {
    "ExecuteTime": {
     "end_time": "2021-02-09T16:55:23.869715Z",
     "start_time": "2021-02-09T16:54:10.516Z"
    }
   },
   "outputs": [
    {
     "name": "stderr",
     "output_type": "stream",
     "text": [
      "Warning message in checkConv(attr(opt, \"derivs\"), opt$par, ctrl = control$checkConv, :\n",
      "“Model failed to converge with max|grad| = 0.273994 (tol = 0.001, component 1)”\n"
     ]
    },
    {
     "data": {
      "text/plain": [
       "Generalized linear mixed model fit by maximum likelihood (Laplace\n",
       "  Approximation) [glmerMod]\n",
       " Family: binomial  ( logit )\n",
       "Formula: charge_started ~ mail_cent * critical_cent * weekday_cent + (1 |  \n",
       "    ID)\n",
       "   Data: df_maildays\n",
       "\n",
       "     AIC      BIC   logLik deviance df.resid \n",
       "  1004.0   1067.2   -493.0    986.0     8259 \n",
       "\n",
       "Scaled residuals: \n",
       "    Min      1Q  Median      3Q     Max \n",
       "-1.2146 -0.0759 -0.0253 -0.0198 15.4711 \n",
       "\n",
       "Random effects:\n",
       " Groups Name        Variance Std.Dev.\n",
       " ID     (Intercept) 5.754    2.399   \n",
       "Number of obs: 8268, groups:  ID, 318\n",
       "\n",
       "Fixed effects:\n",
       "                                     Estimate Std. Error z value Pr(>|z|)    \n",
       "(Intercept)                          -7.37816    0.52582 -14.032  < 2e-16 ***\n",
       "mail_cent                             1.53001    0.30228   5.062 4.16e-07 ***\n",
       "critical_cent                         0.05973    0.41092   0.145 0.884427    \n",
       "weekday_cent                         -0.23930    0.38180  -0.627 0.530812    \n",
       "mail_cent:critical_cent               2.24459    0.57775   3.885 0.000102 ***\n",
       "mail_cent:weekday_cent                0.05721    0.54489   0.105 0.916387    \n",
       "critical_cent:weekday_cent            0.14745    0.76213   0.193 0.846589    \n",
       "mail_cent:critical_cent:weekday_cent -0.88060    1.08029  -0.815 0.414985    \n",
       "---\n",
       "Signif. codes:  0 ‘***’ 0.001 ‘**’ 0.01 ‘*’ 0.05 ‘.’ 0.1 ‘ ’ 1\n",
       "\n",
       "Correlation of Fixed Effects:\n",
       "            (Intr) ml_cnt crtcl_ wkdy_c ml_cnt:c_ ml_cnt:w_ crt_:_\n",
       "mail_cent   -0.427                                                \n",
       "criticl_cnt  0.029 -0.121                                         \n",
       "weekday_cnt  0.159 -0.289 -0.003                                  \n",
       "ml_cnt:crt_ -0.113 -0.093 -0.761 -0.010                           \n",
       "ml_cnt:wkd_ -0.112  0.337 -0.008 -0.750 -0.040                    \n",
       "crtcl_cnt:_  0.000 -0.007  0.375  0.135 -0.293    -0.164          \n",
       "ml_cnt:c_:_  0.017 -0.045 -0.290 -0.164  0.341    -0.111    -0.750\n",
       "convergence code: 0\n",
       "Model failed to converge with max|grad| = 0.273994 (tol = 0.001, component 1)\n"
      ]
     },
     "metadata": {},
     "output_type": "display_data"
    },
    {
     "data": {
      "text/html": [
       "<table>\n",
       "<caption>A matrix: 8 × 2 of type dbl</caption>\n",
       "<thead>\n",
       "\t<tr><th></th><th scope=col>2.5 %</th><th scope=col>97.5 %</th></tr>\n",
       "</thead>\n",
       "<tbody>\n",
       "\t<tr><th scope=row>(Intercept)</th><td>-8.4087587</td><td>-6.3475687</td></tr>\n",
       "\t<tr><th scope=row>mail_cent</th><td> 0.9375467</td><td> 2.1224675</td></tr>\n",
       "\t<tr><th scope=row>critical_cent</th><td>-0.7456581</td><td> 0.8651202</td></tr>\n",
       "\t<tr><th scope=row>weekday_cent</th><td>-0.9876121</td><td> 0.5090139</td></tr>\n",
       "\t<tr><th scope=row>mail_cent:critical_cent</th><td> 1.1122171</td><td> 3.3769727</td></tr>\n",
       "\t<tr><th scope=row>mail_cent:weekday_cent</th><td>-1.0107513</td><td> 1.1251623</td></tr>\n",
       "\t<tr><th scope=row>critical_cent:weekday_cent</th><td>-1.3462969</td><td> 1.6411990</td></tr>\n",
       "\t<tr><th scope=row>mail_cent:critical_cent:weekday_cent</th><td>-2.9979221</td><td> 1.2367254</td></tr>\n",
       "</tbody>\n",
       "</table>\n"
      ],
      "text/latex": [
       "A matrix: 8 × 2 of type dbl\n",
       "\\begin{tabular}{r|ll}\n",
       "  & 2.5 \\% & 97.5 \\%\\\\\n",
       "\\hline\n",
       "\t(Intercept) & -8.4087587 & -6.3475687\\\\\n",
       "\tmail\\_cent &  0.9375467 &  2.1224675\\\\\n",
       "\tcritical\\_cent & -0.7456581 &  0.8651202\\\\\n",
       "\tweekday\\_cent & -0.9876121 &  0.5090139\\\\\n",
       "\tmail\\_cent:critical\\_cent &  1.1122171 &  3.3769727\\\\\n",
       "\tmail\\_cent:weekday\\_cent & -1.0107513 &  1.1251623\\\\\n",
       "\tcritical\\_cent:weekday\\_cent & -1.3462969 &  1.6411990\\\\\n",
       "\tmail\\_cent:critical\\_cent:weekday\\_cent & -2.9979221 &  1.2367254\\\\\n",
       "\\end{tabular}\n"
      ],
      "text/markdown": [
       "\n",
       "A matrix: 8 × 2 of type dbl\n",
       "\n",
       "| <!--/--> | 2.5 % | 97.5 % |\n",
       "|---|---|---|\n",
       "| (Intercept) | -8.4087587 | -6.3475687 |\n",
       "| mail_cent |  0.9375467 |  2.1224675 |\n",
       "| critical_cent | -0.7456581 |  0.8651202 |\n",
       "| weekday_cent | -0.9876121 |  0.5090139 |\n",
       "| mail_cent:critical_cent |  1.1122171 |  3.3769727 |\n",
       "| mail_cent:weekday_cent | -1.0107513 |  1.1251623 |\n",
       "| critical_cent:weekday_cent | -1.3462969 |  1.6411990 |\n",
       "| mail_cent:critical_cent:weekday_cent | -2.9979221 |  1.2367254 |\n",
       "\n"
      ],
      "text/plain": [
       "                                     2.5 %      97.5 %    \n",
       "(Intercept)                          -8.4087587 -6.3475687\n",
       "mail_cent                             0.9375467  2.1224675\n",
       "critical_cent                        -0.7456581  0.8651202\n",
       "weekday_cent                         -0.9876121  0.5090139\n",
       "mail_cent:critical_cent               1.1122171  3.3769727\n",
       "mail_cent:weekday_cent               -1.0107513  1.1251623\n",
       "critical_cent:weekday_cent           -1.3462969  1.6411990\n",
       "mail_cent:critical_cent:weekday_cent -2.9979221  1.2367254"
      ]
     },
     "metadata": {},
     "output_type": "display_data"
    },
    {
     "data": {
      "text/html": [
       "<table>\n",
       "<caption>A tibble: 8 × 8</caption>\n",
       "<thead>\n",
       "\t<tr><th scope=col>effect</th><th scope=col>term</th><th scope=col>estimate</th><th scope=col>std.error</th><th scope=col>statistic</th><th scope=col>p.value</th><th scope=col>conf.low</th><th scope=col>conf.high</th></tr>\n",
       "\t<tr><th scope=col>&lt;chr&gt;</th><th scope=col>&lt;chr&gt;</th><th scope=col>&lt;dbl&gt;</th><th scope=col>&lt;dbl&gt;</th><th scope=col>&lt;dbl&gt;</th><th scope=col>&lt;dbl&gt;</th><th scope=col>&lt;dbl&gt;</th><th scope=col>&lt;dbl&gt;</th></tr>\n",
       "</thead>\n",
       "<tbody>\n",
       "\t<tr><td>fixed</td><td>(Intercept)                         </td><td>0.0006247471</td><td>0.0003285067</td><td>-14.0316370</td><td>9.982048e-45</td><td>0.0002229064</td><td> 0.001750999</td></tr>\n",
       "\t<tr><td>fixed</td><td>mail_cent                           </td><td>4.6182096136</td><td>1.3959982937</td><td>  5.0615345</td><td>4.158955e-07</td><td>2.5537086797</td><td> 8.351720071</td></tr>\n",
       "\t<tr><td>fixed</td><td>critical_cent                       </td><td>1.0615509889</td><td>0.4362129291</td><td>  0.1453591</td><td>8.844273e-01</td><td>0.4744219814</td><td> 2.375291505</td></tr>\n",
       "\t<tr><td>fixed</td><td>weekday_cent                        </td><td>0.7871793763</td><td>0.3005445896</td><td> -0.6267667</td><td>5.308122e-01</td><td>0.3724650221</td><td> 1.663649829</td></tr>\n",
       "\t<tr><td>fixed</td><td>mail_cent:critical_cent             </td><td>9.4365920085</td><td>5.4520322717</td><td>  3.8850332</td><td>1.023159e-04</td><td>3.0410934603</td><td>29.281990145</td></tr>\n",
       "\t<tr><td>fixed</td><td>mail_cent:weekday_cent              </td><td>1.0588734155</td><td>0.5769652330</td><td>  0.1049862</td><td>9.163867e-01</td><td>0.3639454502</td><td> 3.080716930</td></tr>\n",
       "\t<tr><td>fixed</td><td>critical_cent:weekday_cent          </td><td>1.1588765890</td><td>0.8832149573</td><td>  0.1934723</td><td>8.465891e-01</td><td>0.2602020453</td><td> 5.161354313</td></tr>\n",
       "\t<tr><td>fixed</td><td>mail_cent:critical_cent:weekday_cent</td><td>0.4145347862</td><td>0.4478165701</td><td> -0.8151522</td><td>4.149852e-01</td><td>0.0498906266</td><td> 3.444316110</td></tr>\n",
       "</tbody>\n",
       "</table>\n"
      ],
      "text/latex": [
       "A tibble: 8 × 8\n",
       "\\begin{tabular}{llllllll}\n",
       " effect & term & estimate & std.error & statistic & p.value & conf.low & conf.high\\\\\n",
       " <chr> & <chr> & <dbl> & <dbl> & <dbl> & <dbl> & <dbl> & <dbl>\\\\\n",
       "\\hline\n",
       "\t fixed & (Intercept)                          & 0.0006247471 & 0.0003285067 & -14.0316370 & 9.982048e-45 & 0.0002229064 &  0.001750999\\\\\n",
       "\t fixed & mail\\_cent                            & 4.6182096136 & 1.3959982937 &   5.0615345 & 4.158955e-07 & 2.5537086797 &  8.351720071\\\\\n",
       "\t fixed & critical\\_cent                        & 1.0615509889 & 0.4362129291 &   0.1453591 & 8.844273e-01 & 0.4744219814 &  2.375291505\\\\\n",
       "\t fixed & weekday\\_cent                         & 0.7871793763 & 0.3005445896 &  -0.6267667 & 5.308122e-01 & 0.3724650221 &  1.663649829\\\\\n",
       "\t fixed & mail\\_cent:critical\\_cent              & 9.4365920085 & 5.4520322717 &   3.8850332 & 1.023159e-04 & 3.0410934603 & 29.281990145\\\\\n",
       "\t fixed & mail\\_cent:weekday\\_cent               & 1.0588734155 & 0.5769652330 &   0.1049862 & 9.163867e-01 & 0.3639454502 &  3.080716930\\\\\n",
       "\t fixed & critical\\_cent:weekday\\_cent           & 1.1588765890 & 0.8832149573 &   0.1934723 & 8.465891e-01 & 0.2602020453 &  5.161354313\\\\\n",
       "\t fixed & mail\\_cent:critical\\_cent:weekday\\_cent & 0.4145347862 & 0.4478165701 &  -0.8151522 & 4.149852e-01 & 0.0498906266 &  3.444316110\\\\\n",
       "\\end{tabular}\n"
      ],
      "text/markdown": [
       "\n",
       "A tibble: 8 × 8\n",
       "\n",
       "| effect &lt;chr&gt; | term &lt;chr&gt; | estimate &lt;dbl&gt; | std.error &lt;dbl&gt; | statistic &lt;dbl&gt; | p.value &lt;dbl&gt; | conf.low &lt;dbl&gt; | conf.high &lt;dbl&gt; |\n",
       "|---|---|---|---|---|---|---|---|\n",
       "| fixed | (Intercept)                          | 0.0006247471 | 0.0003285067 | -14.0316370 | 9.982048e-45 | 0.0002229064 |  0.001750999 |\n",
       "| fixed | mail_cent                            | 4.6182096136 | 1.3959982937 |   5.0615345 | 4.158955e-07 | 2.5537086797 |  8.351720071 |\n",
       "| fixed | critical_cent                        | 1.0615509889 | 0.4362129291 |   0.1453591 | 8.844273e-01 | 0.4744219814 |  2.375291505 |\n",
       "| fixed | weekday_cent                         | 0.7871793763 | 0.3005445896 |  -0.6267667 | 5.308122e-01 | 0.3724650221 |  1.663649829 |\n",
       "| fixed | mail_cent:critical_cent              | 9.4365920085 | 5.4520322717 |   3.8850332 | 1.023159e-04 | 3.0410934603 | 29.281990145 |\n",
       "| fixed | mail_cent:weekday_cent               | 1.0588734155 | 0.5769652330 |   0.1049862 | 9.163867e-01 | 0.3639454502 |  3.080716930 |\n",
       "| fixed | critical_cent:weekday_cent           | 1.1588765890 | 0.8832149573 |   0.1934723 | 8.465891e-01 | 0.2602020453 |  5.161354313 |\n",
       "| fixed | mail_cent:critical_cent:weekday_cent | 0.4145347862 | 0.4478165701 |  -0.8151522 | 4.149852e-01 | 0.0498906266 |  3.444316110 |\n",
       "\n"
      ],
      "text/plain": [
       "  effect term                                 estimate     std.error   \n",
       "1 fixed  (Intercept)                          0.0006247471 0.0003285067\n",
       "2 fixed  mail_cent                            4.6182096136 1.3959982937\n",
       "3 fixed  critical_cent                        1.0615509889 0.4362129291\n",
       "4 fixed  weekday_cent                         0.7871793763 0.3005445896\n",
       "5 fixed  mail_cent:critical_cent              9.4365920085 5.4520322717\n",
       "6 fixed  mail_cent:weekday_cent               1.0588734155 0.5769652330\n",
       "7 fixed  critical_cent:weekday_cent           1.1588765890 0.8832149573\n",
       "8 fixed  mail_cent:critical_cent:weekday_cent 0.4145347862 0.4478165701\n",
       "  statistic   p.value      conf.low     conf.high   \n",
       "1 -14.0316370 9.982048e-45 0.0002229064  0.001750999\n",
       "2   5.0615345 4.158955e-07 2.5537086797  8.351720071\n",
       "3   0.1453591 8.844273e-01 0.4744219814  2.375291505\n",
       "4  -0.6267667 5.308122e-01 0.3724650221  1.663649829\n",
       "5   3.8850332 1.023159e-04 3.0410934603 29.281990145\n",
       "6   0.1049862 9.163867e-01 0.3639454502  3.080716930\n",
       "7   0.1934723 8.465891e-01 0.2602020453  5.161354313\n",
       "8  -0.8151522 4.149852e-01 0.0498906266  3.444316110"
      ]
     },
     "metadata": {},
     "output_type": "display_data"
    }
   ],
   "source": [
    "m1 <- glmer(charge_started ~ mail_cent*critical_cent*weekday_cent+(1|ID),data=df_maildays,family = binomial(link = \"logit\"))\n",
    "summary(m1)\n",
    "confint(m1,parm=\"beta_\",method=\"Wald\")\n",
    "tidy(m1,conf.int=TRUE,exponentiate=TRUE,effects=\"fixed\")"
   ]
  },
  {
   "cell_type": "markdown",
   "metadata": {},
   "source": [
    "### Dependant variable:  kWh"
   ]
  },
  {
   "cell_type": "code",
   "execution_count": 9,
   "metadata": {
    "ExecuteTime": {
     "end_time": "2021-02-09T16:55:24.523395Z",
     "start_time": "2021-02-09T16:54:10.524Z"
    }
   },
   "outputs": [
    {
     "data": {
      "text/plain": [
       "Linear mixed model fit by REML. t-tests use Satterthwaite's method [\n",
       "lmerModLmerTest]\n",
       "Formula: charge ~ mail_cent * critical_cent * weekday_cent + (1 | ID)\n",
       "   Data: df_maildays\n",
       "\n",
       "REML criterion at convergence: 29368\n",
       "\n",
       "Scaled residuals: \n",
       "    Min      1Q  Median      3Q     Max \n",
       "-2.4257 -0.1737  0.0104  0.0514 25.5103 \n",
       "\n",
       "Random effects:\n",
       " Groups   Name        Variance Std.Dev.\n",
       " ID       (Intercept) 0.1791   0.4232  \n",
       " Residual             1.9424   1.3937  \n",
       "Number of obs: 8268, groups:  ID, 318\n",
       "\n",
       "Fixed effects:\n",
       "                                       Estimate Std. Error         df t value\n",
       "(Intercept)                             0.06518    0.03076  441.52004   2.119\n",
       "mail_cent                               0.24581    0.03294 8210.19974   7.461\n",
       "critical_cent                           0.02898    0.03880 7942.96902   0.747\n",
       "weekday_cent                           -0.03421    0.03733 8050.95044  -0.917\n",
       "mail_cent:critical_cent                 0.34487    0.06411 7942.96902   5.379\n",
       "mail_cent:weekday_cent                 -0.10297    0.06320 8207.65265  -1.629\n",
       "critical_cent:weekday_cent             -0.01528    0.07403 7942.96902  -0.206\n",
       "mail_cent:critical_cent:weekday_cent   -0.29559    0.12305 7942.96902  -2.402\n",
       "                                     Pr(>|t|)    \n",
       "(Intercept)                            0.0347 *  \n",
       "mail_cent                            9.43e-14 ***\n",
       "critical_cent                          0.4552    \n",
       "weekday_cent                           0.3594    \n",
       "mail_cent:critical_cent              7.70e-08 ***\n",
       "mail_cent:weekday_cent                 0.1033    \n",
       "critical_cent:weekday_cent             0.8365    \n",
       "mail_cent:critical_cent:weekday_cent   0.0163 *  \n",
       "---\n",
       "Signif. codes:  0 ‘***’ 0.001 ‘**’ 0.01 ‘*’ 0.05 ‘.’ 0.1 ‘ ’ 1\n",
       "\n",
       "Correlation of Fixed Effects:\n",
       "            (Intr) ml_cnt crtcl_ wkdy_c ml_cnt:c_ ml_cnt:w_ crt_:_\n",
       "mail_cent   -0.365                                                \n",
       "criticl_cnt  0.000  0.000                                         \n",
       "weekday_cnt  0.195 -0.180  0.000                                  \n",
       "ml_cnt:crt_  0.000  0.000 -0.563  0.000                           \n",
       "ml_cnt:wkd_ -0.114  0.292  0.000 -0.567  0.000                    \n",
       "crtcl_cnt:_  0.000  0.000  0.305  0.000 -0.176     0.000          \n",
       "ml_cnt:c_:_  0.000  0.000 -0.175  0.000  0.291     0.000    -0.557"
      ]
     },
     "metadata": {},
     "output_type": "display_data"
    },
    {
     "data": {
      "text/html": [
       "<table>\n",
       "<caption>A matrix: 8 × 2 of type dbl</caption>\n",
       "<thead>\n",
       "\t<tr><th></th><th scope=col>2.5 %</th><th scope=col>97.5 %</th></tr>\n",
       "</thead>\n",
       "<tbody>\n",
       "\t<tr><th scope=row>(Intercept)</th><td> 0.004885243</td><td> 0.12546513</td></tr>\n",
       "\t<tr><th scope=row>mail_cent</th><td> 0.181237789</td><td> 0.31037312</td></tr>\n",
       "\t<tr><th scope=row>critical_cent</th><td>-0.047065722</td><td> 0.10501732</td></tr>\n",
       "\t<tr><th scope=row>weekday_cent</th><td>-0.107381167</td><td> 0.03895269</td></tr>\n",
       "\t<tr><th scope=row>mail_cent:critical_cent</th><td> 0.219209392</td><td> 0.47052372</td></tr>\n",
       "\t<tr><th scope=row>mail_cent:weekday_cent</th><td>-0.226849047</td><td> 0.02090217</td></tr>\n",
       "\t<tr><th scope=row>critical_cent:weekday_cent</th><td>-0.160377155</td><td> 0.12981291</td></tr>\n",
       "\t<tr><th scope=row>mail_cent:critical_cent:weekday_cent</th><td>-0.536770398</td><td>-0.05440560</td></tr>\n",
       "</tbody>\n",
       "</table>\n"
      ],
      "text/latex": [
       "A matrix: 8 × 2 of type dbl\n",
       "\\begin{tabular}{r|ll}\n",
       "  & 2.5 \\% & 97.5 \\%\\\\\n",
       "\\hline\n",
       "\t(Intercept) &  0.004885243 &  0.12546513\\\\\n",
       "\tmail\\_cent &  0.181237789 &  0.31037312\\\\\n",
       "\tcritical\\_cent & -0.047065722 &  0.10501732\\\\\n",
       "\tweekday\\_cent & -0.107381167 &  0.03895269\\\\\n",
       "\tmail\\_cent:critical\\_cent &  0.219209392 &  0.47052372\\\\\n",
       "\tmail\\_cent:weekday\\_cent & -0.226849047 &  0.02090217\\\\\n",
       "\tcritical\\_cent:weekday\\_cent & -0.160377155 &  0.12981291\\\\\n",
       "\tmail\\_cent:critical\\_cent:weekday\\_cent & -0.536770398 & -0.05440560\\\\\n",
       "\\end{tabular}\n"
      ],
      "text/markdown": [
       "\n",
       "A matrix: 8 × 2 of type dbl\n",
       "\n",
       "| <!--/--> | 2.5 % | 97.5 % |\n",
       "|---|---|---|\n",
       "| (Intercept) |  0.004885243 |  0.12546513 |\n",
       "| mail_cent |  0.181237789 |  0.31037312 |\n",
       "| critical_cent | -0.047065722 |  0.10501732 |\n",
       "| weekday_cent | -0.107381167 |  0.03895269 |\n",
       "| mail_cent:critical_cent |  0.219209392 |  0.47052372 |\n",
       "| mail_cent:weekday_cent | -0.226849047 |  0.02090217 |\n",
       "| critical_cent:weekday_cent | -0.160377155 |  0.12981291 |\n",
       "| mail_cent:critical_cent:weekday_cent | -0.536770398 | -0.05440560 |\n",
       "\n"
      ],
      "text/plain": [
       "                                     2.5 %        97.5 %     \n",
       "(Intercept)                           0.004885243  0.12546513\n",
       "mail_cent                             0.181237789  0.31037312\n",
       "critical_cent                        -0.047065722  0.10501732\n",
       "weekday_cent                         -0.107381167  0.03895269\n",
       "mail_cent:critical_cent               0.219209392  0.47052372\n",
       "mail_cent:weekday_cent               -0.226849047  0.02090217\n",
       "critical_cent:weekday_cent           -0.160377155  0.12981291\n",
       "mail_cent:critical_cent:weekday_cent -0.536770398 -0.05440560"
      ]
     },
     "metadata": {},
     "output_type": "display_data"
    },
    {
     "data": {
      "text/html": [
       "<table>\n",
       "<caption>A tibble: 8 × 9</caption>\n",
       "<thead>\n",
       "\t<tr><th scope=col>effect</th><th scope=col>term</th><th scope=col>estimate</th><th scope=col>std.error</th><th scope=col>statistic</th><th scope=col>df</th><th scope=col>p.value</th><th scope=col>conf.low</th><th scope=col>conf.high</th></tr>\n",
       "\t<tr><th scope=col>&lt;chr&gt;</th><th scope=col>&lt;chr&gt;</th><th scope=col>&lt;dbl&gt;</th><th scope=col>&lt;dbl&gt;</th><th scope=col>&lt;dbl&gt;</th><th scope=col>&lt;dbl&gt;</th><th scope=col>&lt;dbl&gt;</th><th scope=col>&lt;dbl&gt;</th><th scope=col>&lt;dbl&gt;</th></tr>\n",
       "</thead>\n",
       "<tbody>\n",
       "\t<tr><td>fixed</td><td>(Intercept)                         </td><td>1.0673460</td><td>0.03283235</td><td> 2.1187782</td><td> 441.520</td><td>3.466702e-02</td><td>1.0048972</td><td>1.1336756</td></tr>\n",
       "\t<tr><td>fixed</td><td>mail_cent                           </td><td>1.2786508</td><td>0.04212297</td><td> 7.4614722</td><td>8210.200</td><td>9.430539e-14</td><td>1.1987002</td><td>1.3639339</td></tr>\n",
       "\t<tr><td>fixed</td><td>critical_cent                       </td><td>1.0293997</td><td>0.03993804</td><td> 0.7468488</td><td>7942.969</td><td>4.551769e-01</td><td>0.9540247</td><td>1.1107298</td></tr>\n",
       "\t<tr><td>fixed</td><td>weekday_cent                        </td><td>0.9663644</td><td>0.03607511</td><td>-0.9165163</td><td>8050.950</td><td>3.594236e-01</td><td>0.8981833</td><td>1.0397213</td></tr>\n",
       "\t<tr><td>fixed</td><td>mail_cent:critical_cent             </td><td>1.4118015</td><td>0.09051338</td><td> 5.3791285</td><td>7942.969</td><td>7.697885e-08</td><td>1.2450920</td><td>1.6008324</td></tr>\n",
       "\t<tr><td>fixed</td><td>mail_cent:weekday_cent              </td><td>0.9021509</td><td>0.05701865</td><td>-1.6292492</td><td>8207.653</td><td>1.032986e-01</td><td>0.7970411</td><td>1.0211221</td></tr>\n",
       "\t<tr><td>fixed</td><td>critical_cent:weekday_cent          </td><td>0.9848341</td><td>0.07290671</td><td>-0.2064330</td><td>7942.969</td><td>8.364580e-01</td><td>0.8518225</td><td>1.1386153</td></tr>\n",
       "\t<tr><td>fixed</td><td>mail_cent:critical_cent:weekday_cent</td><td>0.7440939</td><td>0.09156411</td><td>-2.4020900</td><td>7942.969</td><td>1.632451e-02</td><td>0.5846333</td><td>0.9470479</td></tr>\n",
       "</tbody>\n",
       "</table>\n"
      ],
      "text/latex": [
       "A tibble: 8 × 9\n",
       "\\begin{tabular}{lllllllll}\n",
       " effect & term & estimate & std.error & statistic & df & p.value & conf.low & conf.high\\\\\n",
       " <chr> & <chr> & <dbl> & <dbl> & <dbl> & <dbl> & <dbl> & <dbl> & <dbl>\\\\\n",
       "\\hline\n",
       "\t fixed & (Intercept)                          & 1.0673460 & 0.03283235 &  2.1187782 &  441.520 & 3.466702e-02 & 1.0048972 & 1.1336756\\\\\n",
       "\t fixed & mail\\_cent                            & 1.2786508 & 0.04212297 &  7.4614722 & 8210.200 & 9.430539e-14 & 1.1987002 & 1.3639339\\\\\n",
       "\t fixed & critical\\_cent                        & 1.0293997 & 0.03993804 &  0.7468488 & 7942.969 & 4.551769e-01 & 0.9540247 & 1.1107298\\\\\n",
       "\t fixed & weekday\\_cent                         & 0.9663644 & 0.03607511 & -0.9165163 & 8050.950 & 3.594236e-01 & 0.8981833 & 1.0397213\\\\\n",
       "\t fixed & mail\\_cent:critical\\_cent              & 1.4118015 & 0.09051338 &  5.3791285 & 7942.969 & 7.697885e-08 & 1.2450920 & 1.6008324\\\\\n",
       "\t fixed & mail\\_cent:weekday\\_cent               & 0.9021509 & 0.05701865 & -1.6292492 & 8207.653 & 1.032986e-01 & 0.7970411 & 1.0211221\\\\\n",
       "\t fixed & critical\\_cent:weekday\\_cent           & 0.9848341 & 0.07290671 & -0.2064330 & 7942.969 & 8.364580e-01 & 0.8518225 & 1.1386153\\\\\n",
       "\t fixed & mail\\_cent:critical\\_cent:weekday\\_cent & 0.7440939 & 0.09156411 & -2.4020900 & 7942.969 & 1.632451e-02 & 0.5846333 & 0.9470479\\\\\n",
       "\\end{tabular}\n"
      ],
      "text/markdown": [
       "\n",
       "A tibble: 8 × 9\n",
       "\n",
       "| effect &lt;chr&gt; | term &lt;chr&gt; | estimate &lt;dbl&gt; | std.error &lt;dbl&gt; | statistic &lt;dbl&gt; | df &lt;dbl&gt; | p.value &lt;dbl&gt; | conf.low &lt;dbl&gt; | conf.high &lt;dbl&gt; |\n",
       "|---|---|---|---|---|---|---|---|---|\n",
       "| fixed | (Intercept)                          | 1.0673460 | 0.03283235 |  2.1187782 |  441.520 | 3.466702e-02 | 1.0048972 | 1.1336756 |\n",
       "| fixed | mail_cent                            | 1.2786508 | 0.04212297 |  7.4614722 | 8210.200 | 9.430539e-14 | 1.1987002 | 1.3639339 |\n",
       "| fixed | critical_cent                        | 1.0293997 | 0.03993804 |  0.7468488 | 7942.969 | 4.551769e-01 | 0.9540247 | 1.1107298 |\n",
       "| fixed | weekday_cent                         | 0.9663644 | 0.03607511 | -0.9165163 | 8050.950 | 3.594236e-01 | 0.8981833 | 1.0397213 |\n",
       "| fixed | mail_cent:critical_cent              | 1.4118015 | 0.09051338 |  5.3791285 | 7942.969 | 7.697885e-08 | 1.2450920 | 1.6008324 |\n",
       "| fixed | mail_cent:weekday_cent               | 0.9021509 | 0.05701865 | -1.6292492 | 8207.653 | 1.032986e-01 | 0.7970411 | 1.0211221 |\n",
       "| fixed | critical_cent:weekday_cent           | 0.9848341 | 0.07290671 | -0.2064330 | 7942.969 | 8.364580e-01 | 0.8518225 | 1.1386153 |\n",
       "| fixed | mail_cent:critical_cent:weekday_cent | 0.7440939 | 0.09156411 | -2.4020900 | 7942.969 | 1.632451e-02 | 0.5846333 | 0.9470479 |\n",
       "\n"
      ],
      "text/plain": [
       "  effect term                                 estimate  std.error  statistic \n",
       "1 fixed  (Intercept)                          1.0673460 0.03283235  2.1187782\n",
       "2 fixed  mail_cent                            1.2786508 0.04212297  7.4614722\n",
       "3 fixed  critical_cent                        1.0293997 0.03993804  0.7468488\n",
       "4 fixed  weekday_cent                         0.9663644 0.03607511 -0.9165163\n",
       "5 fixed  mail_cent:critical_cent              1.4118015 0.09051338  5.3791285\n",
       "6 fixed  mail_cent:weekday_cent               0.9021509 0.05701865 -1.6292492\n",
       "7 fixed  critical_cent:weekday_cent           0.9848341 0.07290671 -0.2064330\n",
       "8 fixed  mail_cent:critical_cent:weekday_cent 0.7440939 0.09156411 -2.4020900\n",
       "  df       p.value      conf.low  conf.high\n",
       "1  441.520 3.466702e-02 1.0048972 1.1336756\n",
       "2 8210.200 9.430539e-14 1.1987002 1.3639339\n",
       "3 7942.969 4.551769e-01 0.9540247 1.1107298\n",
       "4 8050.950 3.594236e-01 0.8981833 1.0397213\n",
       "5 7942.969 7.697885e-08 1.2450920 1.6008324\n",
       "6 8207.653 1.032986e-01 0.7970411 1.0211221\n",
       "7 7942.969 8.364580e-01 0.8518225 1.1386153\n",
       "8 7942.969 1.632451e-02 0.5846333 0.9470479"
      ]
     },
     "metadata": {},
     "output_type": "display_data"
    }
   ],
   "source": [
    "m2 <- lmer(charge ~ mail_cent*critical_cent*weekday_cent+(1|ID),data=df_maildays)\n",
    "summary(m2)\n",
    "confint(m2,parm=\"beta_\",method=\"Wald\")\n",
    "tidy(m2,conf.int=TRUE,exponentiate=TRUE,effects=\"fixed\")\n"
   ]
  },
  {
   "cell_type": "markdown",
   "metadata": {},
   "source": [
    "## Model 3 – Comparison of only non-critical times for event days and no-event days\n",
    "### Dependant variable:  Number of charges"
   ]
  },
  {
   "cell_type": "code",
   "execution_count": 10,
   "metadata": {
    "ExecuteTime": {
     "end_time": "2021-02-09T16:55:32.844412Z",
     "start_time": "2021-02-09T16:54:10.534Z"
    }
   },
   "outputs": [
    {
     "name": "stderr",
     "output_type": "stream",
     "text": [
      "fixed-effect model matrix is rank deficient so dropping 1 column / coefficient\n",
      "\n"
     ]
    },
    {
     "data": {
      "text/plain": [
       "Generalized linear mixed model fit by maximum likelihood (Laplace\n",
       "  Approximation) [glmerMod]\n",
       " Family: binomial  ( logit )\n",
       "Formula: charge_started ~ mail_cent * mailday_cent + (1 | ID)\n",
       "   Data: df_other\n",
       "\n",
       "     AIC      BIC   logLik deviance df.resid \n",
       "   974.1   1004.1   -483.1    966.1    13352 \n",
       "\n",
       "Scaled residuals: \n",
       "    Min      1Q  Median      3Q     Max \n",
       "-0.5947 -0.0157 -0.0157 -0.0157  9.0122 \n",
       "\n",
       "Random effects:\n",
       " Groups Name        Variance Std.Dev.\n",
       " ID     (Intercept) 12.66    3.558   \n",
       "Number of obs: 13356, groups:  ID, 318\n",
       "\n",
       "Fixed effects:\n",
       "             Estimate Std. Error z value Pr(>|z|)    \n",
       "(Intercept)   -8.2370     0.8042 -10.242   <2e-16 ***\n",
       "mail_cent      0.3259     0.4073   0.800    0.424    \n",
       "mailday_cent  -0.3228     0.3171  -1.018    0.309    \n",
       "---\n",
       "Signif. codes:  0 ‘***’ 0.001 ‘**’ 0.01 ‘*’ 0.05 ‘.’ 0.1 ‘ ’ 1\n",
       "\n",
       "Correlation of Fixed Effects:\n",
       "            (Intr) ml_cnt\n",
       "mail_cent   -0.029       \n",
       "mailday_cnt  0.029 -0.664\n",
       "fit warnings:\n",
       "fixed-effect model matrix is rank deficient so dropping 1 column / coefficient"
      ]
     },
     "metadata": {},
     "output_type": "display_data"
    },
    {
     "data": {
      "text/html": [
       "<table>\n",
       "<caption>A matrix: 3 × 2 of type dbl</caption>\n",
       "<thead>\n",
       "\t<tr><th></th><th scope=col>2.5 %</th><th scope=col>97.5 %</th></tr>\n",
       "</thead>\n",
       "<tbody>\n",
       "\t<tr><th scope=row>(Intercept)</th><td>-9.8132569</td><td>-6.6608310</td></tr>\n",
       "\t<tr><th scope=row>mail_cent</th><td>-0.4724851</td><td> 1.1241945</td></tr>\n",
       "\t<tr><th scope=row>mailday_cent</th><td>-0.9444048</td><td> 0.2987418</td></tr>\n",
       "</tbody>\n",
       "</table>\n"
      ],
      "text/latex": [
       "A matrix: 3 × 2 of type dbl\n",
       "\\begin{tabular}{r|ll}\n",
       "  & 2.5 \\% & 97.5 \\%\\\\\n",
       "\\hline\n",
       "\t(Intercept) & -9.8132569 & -6.6608310\\\\\n",
       "\tmail\\_cent & -0.4724851 &  1.1241945\\\\\n",
       "\tmailday\\_cent & -0.9444048 &  0.2987418\\\\\n",
       "\\end{tabular}\n"
      ],
      "text/markdown": [
       "\n",
       "A matrix: 3 × 2 of type dbl\n",
       "\n",
       "| <!--/--> | 2.5 % | 97.5 % |\n",
       "|---|---|---|\n",
       "| (Intercept) | -9.8132569 | -6.6608310 |\n",
       "| mail_cent | -0.4724851 |  1.1241945 |\n",
       "| mailday_cent | -0.9444048 |  0.2987418 |\n",
       "\n"
      ],
      "text/plain": [
       "             2.5 %      97.5 %    \n",
       "(Intercept)  -9.8132569 -6.6608310\n",
       "mail_cent    -0.4724851  1.1241945\n",
       "mailday_cent -0.9444048  0.2987418"
      ]
     },
     "metadata": {},
     "output_type": "display_data"
    },
    {
     "data": {
      "text/html": [
       "<table>\n",
       "<caption>A tibble: 3 × 8</caption>\n",
       "<thead>\n",
       "\t<tr><th scope=col>effect</th><th scope=col>term</th><th scope=col>estimate</th><th scope=col>std.error</th><th scope=col>statistic</th><th scope=col>p.value</th><th scope=col>conf.low</th><th scope=col>conf.high</th></tr>\n",
       "\t<tr><th scope=col>&lt;chr&gt;</th><th scope=col>&lt;chr&gt;</th><th scope=col>&lt;dbl&gt;</th><th scope=col>&lt;dbl&gt;</th><th scope=col>&lt;dbl&gt;</th><th scope=col>&lt;dbl&gt;</th><th scope=col>&lt;dbl&gt;</th><th scope=col>&lt;dbl&gt;</th></tr>\n",
       "</thead>\n",
       "<tbody>\n",
       "\t<tr><td>fixed</td><td>(Intercept) </td><td>0.0002646655</td><td>0.0002128453</td><td>-10.2424673</td><td>1.279316e-24</td><td>5.472133e-05</td><td>0.001280082</td></tr>\n",
       "\t<tr><td>fixed</td><td>mail_cent   </td><td>1.3852140870</td><td>0.5642305572</td><td>  0.7999895</td><td>4.237169e-01</td><td>6.234510e-01</td><td>3.077736818</td></tr>\n",
       "\t<tr><td>fixed</td><td>mailday_cent</td><td>0.7240958562</td><td>0.2296361906</td><td> -1.0179621</td><td>3.086959e-01</td><td>3.889110e-01</td><td>1.348161510</td></tr>\n",
       "</tbody>\n",
       "</table>\n"
      ],
      "text/latex": [
       "A tibble: 3 × 8\n",
       "\\begin{tabular}{llllllll}\n",
       " effect & term & estimate & std.error & statistic & p.value & conf.low & conf.high\\\\\n",
       " <chr> & <chr> & <dbl> & <dbl> & <dbl> & <dbl> & <dbl> & <dbl>\\\\\n",
       "\\hline\n",
       "\t fixed & (Intercept)  & 0.0002646655 & 0.0002128453 & -10.2424673 & 1.279316e-24 & 5.472133e-05 & 0.001280082\\\\\n",
       "\t fixed & mail\\_cent    & 1.3852140870 & 0.5642305572 &   0.7999895 & 4.237169e-01 & 6.234510e-01 & 3.077736818\\\\\n",
       "\t fixed & mailday\\_cent & 0.7240958562 & 0.2296361906 &  -1.0179621 & 3.086959e-01 & 3.889110e-01 & 1.348161510\\\\\n",
       "\\end{tabular}\n"
      ],
      "text/markdown": [
       "\n",
       "A tibble: 3 × 8\n",
       "\n",
       "| effect &lt;chr&gt; | term &lt;chr&gt; | estimate &lt;dbl&gt; | std.error &lt;dbl&gt; | statistic &lt;dbl&gt; | p.value &lt;dbl&gt; | conf.low &lt;dbl&gt; | conf.high &lt;dbl&gt; |\n",
       "|---|---|---|---|---|---|---|---|\n",
       "| fixed | (Intercept)  | 0.0002646655 | 0.0002128453 | -10.2424673 | 1.279316e-24 | 5.472133e-05 | 0.001280082 |\n",
       "| fixed | mail_cent    | 1.3852140870 | 0.5642305572 |   0.7999895 | 4.237169e-01 | 6.234510e-01 | 3.077736818 |\n",
       "| fixed | mailday_cent | 0.7240958562 | 0.2296361906 |  -1.0179621 | 3.086959e-01 | 3.889110e-01 | 1.348161510 |\n",
       "\n"
      ],
      "text/plain": [
       "  effect term         estimate     std.error    statistic   p.value     \n",
       "1 fixed  (Intercept)  0.0002646655 0.0002128453 -10.2424673 1.279316e-24\n",
       "2 fixed  mail_cent    1.3852140870 0.5642305572   0.7999895 4.237169e-01\n",
       "3 fixed  mailday_cent 0.7240958562 0.2296361906  -1.0179621 3.086959e-01\n",
       "  conf.low     conf.high  \n",
       "1 5.472133e-05 0.001280082\n",
       "2 6.234510e-01 3.077736818\n",
       "3 3.889110e-01 1.348161510"
      ]
     },
     "metadata": {},
     "output_type": "display_data"
    }
   ],
   "source": [
    "df_other <- subset(df, df$critical == 0)\n",
    "m1 <- glmer(charge_started ~ mail_cent*mailday_cent +(1|ID),data=df_other,family = binomial(link = \"logit\"))\n",
    "summary(m1)\n",
    "confint(m1,parm=\"beta_\",method=\"Wald\")\n",
    "tidy(m1,conf.int=TRUE,exponentiate=TRUE,effects=\"fixed\")\n"
   ]
  },
  {
   "cell_type": "markdown",
   "metadata": {},
   "source": [
    "### Dependant variable:  kWh"
   ]
  },
  {
   "cell_type": "code",
   "execution_count": 11,
   "metadata": {
    "ExecuteTime": {
     "end_time": "2021-02-09T16:55:33.461428Z",
     "start_time": "2021-02-09T16:54:10.545Z"
    }
   },
   "outputs": [
    {
     "name": "stderr",
     "output_type": "stream",
     "text": [
      "fixed-effect model matrix is rank deficient so dropping 1 column / coefficient\n",
      "\n"
     ]
    },
    {
     "data": {
      "text/plain": [
       "Linear mixed model fit by REML. t-tests use Satterthwaite's method [\n",
       "lmerModLmerTest]\n",
       "Formula: charge ~ mail_cent * mailday_cent + (1 | ID)\n",
       "   Data: df_other\n",
       "\n",
       "REML criterion at convergence: 38551.4\n",
       "\n",
       "Scaled residuals: \n",
       "   Min     1Q Median     3Q    Max \n",
       "-2.588 -0.049 -0.023 -0.021 44.076 \n",
       "\n",
       "Random effects:\n",
       " Groups   Name        Variance Std.Dev.\n",
       " ID       (Intercept) 0.06744  0.2597  \n",
       " Residual             1.01590  1.0079  \n",
       "Number of obs: 13356, groups:  ID, 318\n",
       "\n",
       "Fixed effects:\n",
       "               Estimate Std. Error         df t value Pr(>|t|)    \n",
       "(Intercept)   8.134e-02  1.697e-02  3.169e+02   4.792 2.54e-06 ***\n",
       "mail_cent     6.687e-02  3.163e-02  1.318e+04   2.114   0.0345 *  \n",
       "mailday_cent -3.842e-02  2.435e-02  1.310e+04  -1.578   0.1147    \n",
       "---\n",
       "Signif. codes:  0 ‘***’ 0.001 ‘**’ 0.01 ‘*’ 0.05 ‘.’ 0.1 ‘ ’ 1\n",
       "\n",
       "Correlation of Fixed Effects:\n",
       "            (Intr) ml_cnt\n",
       "mail_cent    0.000       \n",
       "mailday_cnt  0.000 -0.632\n",
       "fit warnings:\n",
       "fixed-effect model matrix is rank deficient so dropping 1 column / coefficient"
      ]
     },
     "metadata": {},
     "output_type": "display_data"
    },
    {
     "data": {
      "text/html": [
       "<table>\n",
       "<caption>A matrix: 3 × 2 of type dbl</caption>\n",
       "<thead>\n",
       "\t<tr><th></th><th scope=col>2.5 %</th><th scope=col>97.5 %</th></tr>\n",
       "</thead>\n",
       "<tbody>\n",
       "\t<tr><th scope=row>(Intercept)</th><td> 0.048074369</td><td>0.114614843</td></tr>\n",
       "\t<tr><th scope=row>mail_cent</th><td> 0.004878462</td><td>0.128867892</td></tr>\n",
       "\t<tr><th scope=row>mailday_cent</th><td>-0.086152587</td><td>0.009314264</td></tr>\n",
       "</tbody>\n",
       "</table>\n"
      ],
      "text/latex": [
       "A matrix: 3 × 2 of type dbl\n",
       "\\begin{tabular}{r|ll}\n",
       "  & 2.5 \\% & 97.5 \\%\\\\\n",
       "\\hline\n",
       "\t(Intercept) &  0.048074369 & 0.114614843\\\\\n",
       "\tmail\\_cent &  0.004878462 & 0.128867892\\\\\n",
       "\tmailday\\_cent & -0.086152587 & 0.009314264\\\\\n",
       "\\end{tabular}\n"
      ],
      "text/markdown": [
       "\n",
       "A matrix: 3 × 2 of type dbl\n",
       "\n",
       "| <!--/--> | 2.5 % | 97.5 % |\n",
       "|---|---|---|\n",
       "| (Intercept) |  0.048074369 | 0.114614843 |\n",
       "| mail_cent |  0.004878462 | 0.128867892 |\n",
       "| mailday_cent | -0.086152587 | 0.009314264 |\n",
       "\n"
      ],
      "text/plain": [
       "             2.5 %        97.5 %     \n",
       "(Intercept)   0.048074369 0.114614843\n",
       "mail_cent     0.004878462 0.128867892\n",
       "mailday_cent -0.086152587 0.009314264"
      ]
     },
     "metadata": {},
     "output_type": "display_data"
    },
    {
     "data": {
      "text/html": [
       "<table>\n",
       "<caption>A tibble: 3 × 9</caption>\n",
       "<thead>\n",
       "\t<tr><th scope=col>effect</th><th scope=col>term</th><th scope=col>estimate</th><th scope=col>std.error</th><th scope=col>statistic</th><th scope=col>df</th><th scope=col>p.value</th><th scope=col>conf.low</th><th scope=col>conf.high</th></tr>\n",
       "\t<tr><th scope=col>&lt;chr&gt;</th><th scope=col>&lt;chr&gt;</th><th scope=col>&lt;dbl&gt;</th><th scope=col>&lt;dbl&gt;</th><th scope=col>&lt;dbl&gt;</th><th scope=col>&lt;dbl&gt;</th><th scope=col>&lt;dbl&gt;</th><th scope=col>&lt;dbl&gt;</th><th scope=col>&lt;dbl&gt;</th></tr>\n",
       "</thead>\n",
       "<tbody>\n",
       "\t<tr><td>fixed</td><td>(Intercept) </td><td>1.0847446</td><td>0.01841346</td><td> 4.792046</td><td>  316.9122</td><td>2.541208e-06</td><td>1.0492487</td><td>1.121441</td></tr>\n",
       "\t<tr><td>fixed</td><td>mail_cent   </td><td>1.0691599</td><td>0.03381810</td><td> 2.114197</td><td>13176.8916</td><td>3.451721e-02</td><td>1.0048904</td><td>1.137540</td></tr>\n",
       "\t<tr><td>fixed</td><td>mailday_cent</td><td>0.9623095</td><td>0.02343631</td><td>-1.577515</td><td>13096.9594</td><td>1.147013e-01</td><td>0.9174542</td><td>1.009358</td></tr>\n",
       "</tbody>\n",
       "</table>\n"
      ],
      "text/latex": [
       "A tibble: 3 × 9\n",
       "\\begin{tabular}{lllllllll}\n",
       " effect & term & estimate & std.error & statistic & df & p.value & conf.low & conf.high\\\\\n",
       " <chr> & <chr> & <dbl> & <dbl> & <dbl> & <dbl> & <dbl> & <dbl> & <dbl>\\\\\n",
       "\\hline\n",
       "\t fixed & (Intercept)  & 1.0847446 & 0.01841346 &  4.792046 &   316.9122 & 2.541208e-06 & 1.0492487 & 1.121441\\\\\n",
       "\t fixed & mail\\_cent    & 1.0691599 & 0.03381810 &  2.114197 & 13176.8916 & 3.451721e-02 & 1.0048904 & 1.137540\\\\\n",
       "\t fixed & mailday\\_cent & 0.9623095 & 0.02343631 & -1.577515 & 13096.9594 & 1.147013e-01 & 0.9174542 & 1.009358\\\\\n",
       "\\end{tabular}\n"
      ],
      "text/markdown": [
       "\n",
       "A tibble: 3 × 9\n",
       "\n",
       "| effect &lt;chr&gt; | term &lt;chr&gt; | estimate &lt;dbl&gt; | std.error &lt;dbl&gt; | statistic &lt;dbl&gt; | df &lt;dbl&gt; | p.value &lt;dbl&gt; | conf.low &lt;dbl&gt; | conf.high &lt;dbl&gt; |\n",
       "|---|---|---|---|---|---|---|---|---|\n",
       "| fixed | (Intercept)  | 1.0847446 | 0.01841346 |  4.792046 |   316.9122 | 2.541208e-06 | 1.0492487 | 1.121441 |\n",
       "| fixed | mail_cent    | 1.0691599 | 0.03381810 |  2.114197 | 13176.8916 | 3.451721e-02 | 1.0048904 | 1.137540 |\n",
       "| fixed | mailday_cent | 0.9623095 | 0.02343631 | -1.577515 | 13096.9594 | 1.147013e-01 | 0.9174542 | 1.009358 |\n",
       "\n"
      ],
      "text/plain": [
       "  effect term         estimate  std.error  statistic df         p.value     \n",
       "1 fixed  (Intercept)  1.0847446 0.01841346  4.792046   316.9122 2.541208e-06\n",
       "2 fixed  mail_cent    1.0691599 0.03381810  2.114197 13176.8916 3.451721e-02\n",
       "3 fixed  mailday_cent 0.9623095 0.02343631 -1.577515 13096.9594 1.147013e-01\n",
       "  conf.low  conf.high\n",
       "1 1.0492487 1.121441 \n",
       "2 1.0048904 1.137540 \n",
       "3 0.9174542 1.009358 "
      ]
     },
     "metadata": {},
     "output_type": "display_data"
    }
   ],
   "source": [
    "m2 <- lmer(charge ~ mail_cent* mailday_cent + (1|ID),data=df_other)\n",
    "summary(m2)\n",
    "confint(m2,parm=\"beta_\",method=\"Wald\")\n",
    "tidy(m2,conf.int=TRUE,exponentiate=TRUE,effects=\"fixed\")"
   ]
  },
  {
   "cell_type": "code",
   "execution_count": null,
   "metadata": {},
   "outputs": [],
   "source": []
  }
 ],
 "metadata": {
  "kernelspec": {
   "display_name": "R",
   "language": "R",
   "name": "ir"
  },
  "language_info": {
   "codemirror_mode": "r",
   "file_extension": ".r",
   "mimetype": "text/x-r-source",
   "name": "R",
   "pygments_lexer": "r",
   "version": "3.6.3"
  },
  "toc": {
   "base_numbering": 1,
   "nav_menu": {},
   "number_sections": true,
   "sideBar": true,
   "skip_h1_title": false,
   "title_cell": "Table of Contents",
   "title_sidebar": "Contents",
   "toc_cell": false,
   "toc_position": {},
   "toc_section_display": true,
   "toc_window_display": false
  }
 },
 "nbformat": 4,
 "nbformat_minor": 4
}
