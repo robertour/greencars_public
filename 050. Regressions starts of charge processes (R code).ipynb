{
 "cells": [
  {
   "cell_type": "code",
   "execution_count": 1,
   "metadata": {
    "ExecuteTime": {
     "end_time": "2021-02-09T14:32:13.426333Z",
     "start_time": "2021-02-09T14:32:10.506Z"
    }
   },
   "outputs": [
    {
     "name": "stderr",
     "output_type": "stream",
     "text": [
      "Loading required package: Matrix\n",
      "\n",
      "\n",
      "Attaching package: ‘lmerTest’\n",
      "\n",
      "\n",
      "The following object is masked from ‘package:lme4’:\n",
      "\n",
      "    lmer\n",
      "\n",
      "\n",
      "The following object is masked from ‘package:stats’:\n",
      "\n",
      "    step\n",
      "\n",
      "\n"
     ]
    }
   ],
   "source": [
    "library(lme4)\n",
    "library(lmerTest)\n",
    "library(sjPlot)"
   ]
  },
  {
   "cell_type": "markdown",
   "metadata": {},
   "source": [
    "# Load data"
   ]
  },
  {
   "cell_type": "code",
   "execution_count": 2,
   "metadata": {
    "ExecuteTime": {
     "end_time": "2021-02-09T14:32:13.541220Z",
     "start_time": "2021-02-09T14:32:10.520Z"
    }
   },
   "outputs": [],
   "source": [
    "df <- read.csv(\"output/critical_long_format.csv\")\n",
    "#df <- read.csv(\"output/critical_long_format_with_dummy.csv\")\n",
    "df$ID <- df$client_id\n"
   ]
  },
  {
   "cell_type": "markdown",
   "metadata": {},
   "source": [
    "# Data preparation"
   ]
  },
  {
   "cell_type": "code",
   "execution_count": 3,
   "metadata": {
    "ExecuteTime": {
     "end_time": "2021-02-09T14:32:13.756511Z",
     "start_time": "2021-02-09T14:32:10.530Z"
    }
   },
   "outputs": [],
   "source": [
    "# center binary variables\n",
    "df$critical_cent <- scale(df$critical, scale=F)\n",
    "df$mail_cent <- scale(df$mailed, scale=F)\n",
    "df$mailday_cent <- scale(df$mailday, scale=F)\n",
    "df$weekday_cent <- scale(df$is_weekday, scale=F)\n"
   ]
  },
  {
   "cell_type": "code",
   "execution_count": 4,
   "metadata": {
    "ExecuteTime": {
     "end_time": "2021-02-09T14:32:13.812934Z",
     "start_time": "2021-02-09T14:32:10.537Z"
    }
   },
   "outputs": [],
   "source": [
    "# factors for green hours, mail and mailday\n",
    "df$critical_f <- as.factor(df$critical)\n",
    "levels(df$critical_f) <- c(\"No green hours\",\"Green hours (11am to 3pm)\")\n",
    "df$mail_f <- as.factor(df$mailed)\n",
    "levels(df$mail_f) <- c(\"No mail\",\"Green mail\")\n",
    "df$mail_day_f <- as.factor(df$mailday)\n",
    "levels(df$mail_day_f) <- c(\"No mail for day\",\"Mail for day\")\n",
    "df$weekday_f <- as.factor(df$is_weekday)\n",
    "levels(df$weekday_f) <- c(\"Mo-Fr\",\"Sa-Su\")"
   ]
  },
  {
   "cell_type": "code",
   "execution_count": 5,
   "metadata": {
    "ExecuteTime": {
     "end_time": "2021-02-09T14:32:13.854639Z",
     "start_time": "2021-02-09T14:32:10.545Z"
    }
   },
   "outputs": [],
   "source": [
    "df_maildays = df[df$mailday == 1,]\n",
    "df_nomaildays = df[df$mailday == 0,]"
   ]
  },
  {
   "cell_type": "markdown",
   "metadata": {},
   "source": [
    "# Analyzing start of chargers"
   ]
  },
  {
   "cell_type": "markdown",
   "metadata": {
    "ExecuteTime": {
     "end_time": "2020-10-10T14:58:27.038182Z",
     "start_time": "2020-10-10T14:58:27.016Z"
    }
   },
   "source": [
    "## MailDays"
   ]
  },
  {
   "cell_type": "markdown",
   "metadata": {
    "ExecuteTime": {
     "end_time": "2020-10-10T14:55:58.662648Z",
     "start_time": "2020-10-10T14:55:58.636Z"
    }
   },
   "source": [
    "### Model: `Starts ~ mail*critical + 1|D`"
   ]
  },
  {
   "cell_type": "code",
   "execution_count": 6,
   "metadata": {
    "ExecuteTime": {
     "end_time": "2021-02-09T14:32:25.382607Z",
     "start_time": "2021-02-09T14:32:10.557Z"
    }
   },
   "outputs": [
    {
     "data": {
      "text/plain": [
       "Generalized linear mixed model fit by maximum likelihood (Laplace\n",
       "  Approximation) [glmerMod]\n",
       " Family: binomial  ( logit )\n",
       "Formula: charge_started ~ mail_cent * critical_cent + (1 | ID)\n",
       "   Data: df_maildays\n",
       "\n",
       "     AIC      BIC   logLik deviance df.resid \n",
       "  1000.3   1035.4   -495.1    990.3     8263 \n",
       "\n",
       "Scaled residuals: \n",
       "    Min      1Q  Median      3Q     Max \n",
       "-1.0797 -0.0684 -0.0240 -0.0205 15.9540 \n",
       "\n",
       "Random effects:\n",
       " Groups Name        Variance Std.Dev.\n",
       " ID     (Intercept) 6.35     2.52    \n",
       "Number of obs: 8268, groups:  ID, 318\n",
       "\n",
       "Fixed effects:\n",
       "                        Estimate Std. Error z value Pr(>|z|)    \n",
       "(Intercept)             -7.46295    0.57105 -13.069  < 2e-16 ***\n",
       "mail_cent                1.52215    0.28451   5.350 8.80e-08 ***\n",
       "critical_cent           -0.01644    0.38082  -0.043    0.966    \n",
       "mail_cent:critical_cent  2.46177    0.54242   4.539 5.67e-06 ***\n",
       "---\n",
       "Signif. codes:  0 ‘***’ 0.001 ‘**’ 0.01 ‘*’ 0.05 ‘.’ 0.1 ‘ ’ 1\n",
       "\n",
       "Correlation of Fixed Effects:\n",
       "            (Intr) ml_cnt crtcl_\n",
       "mail_cent   -0.393              \n",
       "criticl_cnt  0.044 -0.176       \n",
       "ml_cnt:crt_ -0.139 -0.066 -0.746"
      ]
     },
     "metadata": {},
     "output_type": "display_data"
    }
   ],
   "source": [
    "m1 <- glmer(charge_started ~ mail_cent*critical_cent+(1|ID),data=df_maildays,family = binomial(link = \"logit\"))\n",
    "summary(m1)\n",
    "#tab_model(m1)\n"
   ]
  },
  {
   "cell_type": "markdown",
   "metadata": {},
   "source": [
    "### Model: `Starts ~ mail*critical+weekday + 1|D`"
   ]
  },
  {
   "cell_type": "code",
   "execution_count": 7,
   "metadata": {
    "ExecuteTime": {
     "end_time": "2021-02-09T14:32:44.457214Z",
     "start_time": "2021-02-09T14:32:10.565Z"
    }
   },
   "outputs": [
    {
     "data": {
      "text/plain": [
       "Generalized linear mixed model fit by maximum likelihood (Laplace\n",
       "  Approximation) [glmerMod]\n",
       " Family: binomial  ( logit )\n",
       "Formula: charge_started ~ mail_cent * critical_cent + weekday_cent + (1 |  \n",
       "    ID)\n",
       "   Data: df_maildays\n",
       "\n",
       "     AIC      BIC   logLik deviance df.resid \n",
       "   999.4   1041.5   -493.7    987.4     8262 \n",
       "\n",
       "Scaled residuals: \n",
       "    Min      1Q  Median      3Q     Max \n",
       "-1.1840 -0.0721 -0.0229 -0.0190 16.0297 \n",
       "\n",
       "Random effects:\n",
       " Groups Name        Variance Std.Dev.\n",
       " ID     (Intercept) 6.437    2.537   \n",
       "Number of obs: 8268, groups:  ID, 318\n",
       "\n",
       "Fixed effects:\n",
       "                        Estimate Std. Error z value Pr(>|z|)    \n",
       "(Intercept)             -7.55056    0.58160 -12.982  < 2e-16 ***\n",
       "mail_cent                1.52727    0.28458   5.367 8.01e-08 ***\n",
       "critical_cent           -0.01538    0.38081  -0.040   0.9678    \n",
       "weekday_cent            -0.35122    0.20518  -1.712   0.0869 .  \n",
       "mail_cent:critical_cent  2.47065    0.54274   4.552 5.31e-06 ***\n",
       "---\n",
       "Signif. codes:  0 ‘***’ 0.001 ‘**’ 0.01 ‘*’ 0.05 ‘.’ 0.1 ‘ ’ 1\n",
       "\n",
       "Correlation of Fixed Effects:\n",
       "            (Intr) ml_cnt crtcl_ wkdy_c\n",
       "mail_cent   -0.391                     \n",
       "criticl_cnt  0.042 -0.176              \n",
       "weekday_cnt  0.124 -0.023 -0.002       \n",
       "ml_cnt:crt_ -0.141 -0.066 -0.745 -0.017"
      ]
     },
     "metadata": {},
     "output_type": "display_data"
    }
   ],
   "source": [
    "m1 <- glmer(charge_started ~ mail_cent*critical_cent + weekday_cent+(1|ID),data=df_maildays,family = binomial(link = \"logit\"))\n",
    "\n",
    "summary(m1)\n",
    "#tab_model(m1)"
   ]
  },
  {
   "cell_type": "markdown",
   "metadata": {},
   "source": [
    "### Model: `Starts ~ mail*critical*weekday + 1|D`"
   ]
  },
  {
   "cell_type": "code",
   "execution_count": 8,
   "metadata": {
    "ExecuteTime": {
     "end_time": "2021-02-09T14:33:52.984862Z",
     "start_time": "2021-02-09T14:32:10.573Z"
    }
   },
   "outputs": [
    {
     "name": "stderr",
     "output_type": "stream",
     "text": [
      "Warning message in checkConv(attr(opt, \"derivs\"), opt$par, ctrl = control$checkConv, :\n",
      "“Model failed to converge with max|grad| = 0.273994 (tol = 0.001, component 1)”\n"
     ]
    },
    {
     "data": {
      "text/plain": [
       "Generalized linear mixed model fit by maximum likelihood (Laplace\n",
       "  Approximation) [glmerMod]\n",
       " Family: binomial  ( logit )\n",
       "Formula: charge_started ~ mail_cent * critical_cent * weekday_cent + (1 |  \n",
       "    ID)\n",
       "   Data: df_maildays\n",
       "\n",
       "     AIC      BIC   logLik deviance df.resid \n",
       "  1004.0   1067.2   -493.0    986.0     8259 \n",
       "\n",
       "Scaled residuals: \n",
       "    Min      1Q  Median      3Q     Max \n",
       "-1.2146 -0.0759 -0.0253 -0.0198 15.4711 \n",
       "\n",
       "Random effects:\n",
       " Groups Name        Variance Std.Dev.\n",
       " ID     (Intercept) 5.754    2.399   \n",
       "Number of obs: 8268, groups:  ID, 318\n",
       "\n",
       "Fixed effects:\n",
       "                                     Estimate Std. Error z value Pr(>|z|)    \n",
       "(Intercept)                          -7.37816    0.52582 -14.032  < 2e-16 ***\n",
       "mail_cent                             1.53001    0.30228   5.062 4.16e-07 ***\n",
       "critical_cent                         0.05973    0.41092   0.145 0.884427    \n",
       "weekday_cent                         -0.23930    0.38180  -0.627 0.530812    \n",
       "mail_cent:critical_cent               2.24459    0.57775   3.885 0.000102 ***\n",
       "mail_cent:weekday_cent                0.05721    0.54489   0.105 0.916387    \n",
       "critical_cent:weekday_cent            0.14745    0.76213   0.193 0.846589    \n",
       "mail_cent:critical_cent:weekday_cent -0.88060    1.08029  -0.815 0.414985    \n",
       "---\n",
       "Signif. codes:  0 ‘***’ 0.001 ‘**’ 0.01 ‘*’ 0.05 ‘.’ 0.1 ‘ ’ 1\n",
       "\n",
       "Correlation of Fixed Effects:\n",
       "            (Intr) ml_cnt crtcl_ wkdy_c ml_cnt:c_ ml_cnt:w_ crt_:_\n",
       "mail_cent   -0.427                                                \n",
       "criticl_cnt  0.029 -0.121                                         \n",
       "weekday_cnt  0.159 -0.289 -0.003                                  \n",
       "ml_cnt:crt_ -0.113 -0.093 -0.761 -0.010                           \n",
       "ml_cnt:wkd_ -0.112  0.337 -0.008 -0.750 -0.040                    \n",
       "crtcl_cnt:_  0.000 -0.007  0.375  0.135 -0.293    -0.164          \n",
       "ml_cnt:c_:_  0.017 -0.045 -0.290 -0.164  0.341    -0.111    -0.750\n",
       "convergence code: 0\n",
       "Model failed to converge with max|grad| = 0.273994 (tol = 0.001, component 1)\n"
      ]
     },
     "metadata": {},
     "output_type": "display_data"
    }
   ],
   "source": [
    "m1 <- glmer(charge_started ~ mail_cent*critical_cent*weekday_cent + (1|ID),data=df_maildays,family = binomial(link = \"logit\"))\n",
    "\n",
    "summary(m1)"
   ]
  },
  {
   "cell_type": "markdown",
   "metadata": {
    "ExecuteTime": {
     "end_time": "2020-10-10T14:58:58.842894Z",
     "start_time": "2020-10-10T14:58:58.822Z"
    }
   },
   "source": [
    "## No Mail Days"
   ]
  },
  {
   "cell_type": "markdown",
   "metadata": {},
   "source": [
    "### Model: `Starts ~ critical*weekday + 1|ID`\n"
   ]
  },
  {
   "cell_type": "code",
   "execution_count": 9,
   "metadata": {
    "ExecuteTime": {
     "end_time": "2021-02-09T14:34:12.460990Z",
     "start_time": "2021-02-09T14:32:10.583Z"
    }
   },
   "outputs": [
    {
     "data": {
      "text/plain": [
       "Generalized linear mixed model fit by maximum likelihood (Laplace\n",
       "  Approximation) [glmerMod]\n",
       " Family: binomial  ( logit )\n",
       "Formula: charge_started ~ critical_cent * weekday_cent + (1 | ID)\n",
       "   Data: df_nomaildays\n",
       "\n",
       "     AIC      BIC   logLik deviance df.resid \n",
       "  1170.9   1210.0   -580.5   1160.9    18439 \n",
       "\n",
       "Scaled residuals: \n",
       "    Min      1Q  Median      3Q     Max \n",
       "-0.4737 -0.0143 -0.0137 -0.0108 10.6114 \n",
       "\n",
       "Random effects:\n",
       " Groups Name        Variance Std.Dev.\n",
       " ID     (Intercept) 14.25    3.774   \n",
       "Number of obs: 18444, groups:  ID, 318\n",
       "\n",
       "Fixed effects:\n",
       "                           Estimate Std. Error z value Pr(>|z|)    \n",
       "(Intercept)                -8.66678    0.77046 -11.249  < 2e-16 ***\n",
       "critical_cent              -0.54188    0.20468  -2.647  0.00811 ** \n",
       "weekday_cent                0.04820    0.23752   0.203  0.83918    \n",
       "critical_cent:weekday_cent -0.05845    0.47406  -0.123  0.90188    \n",
       "---\n",
       "Signif. codes:  0 ‘***’ 0.001 ‘**’ 0.01 ‘*’ 0.05 ‘.’ 0.1 ‘ ’ 1\n",
       "\n",
       "Correlation of Fixed Effects:\n",
       "            (Intr) crtcl_ wkdy_c\n",
       "criticl_cnt  0.046              \n",
       "weekday_cnt -0.025 -0.029       \n",
       "crtcl_cnt:_ -0.004 -0.173  0.222"
      ]
     },
     "metadata": {},
     "output_type": "display_data"
    }
   ],
   "source": [
    "m2 <- glmer(charge_started ~ critical_cent*weekday_cent+(1|ID),data=df_nomaildays,family = binomial(link = \"logit\"))\n",
    "summary(m2)\n",
    "#tab_model(m1)"
   ]
  },
  {
   "cell_type": "markdown",
   "metadata": {},
   "source": [
    "## ALL: Mail and No Mail Days"
   ]
  },
  {
   "cell_type": "markdown",
   "metadata": {},
   "source": [
    "### Model: `Starts ~ mail*critical*weekday  + mailday_cent + 1|ID`"
   ]
  },
  {
   "cell_type": "code",
   "execution_count": 10,
   "metadata": {
    "ExecuteTime": {
     "end_time": "2021-02-09T14:36:36.664721Z",
     "start_time": "2021-02-09T14:32:10.591Z"
    }
   },
   "outputs": [
    {
     "name": "stderr",
     "output_type": "stream",
     "text": [
      "Warning message in checkConv(attr(opt, \"derivs\"), opt$par, ctrl = control$checkConv, :\n",
      "“Model failed to converge with max|grad| = 0.162537 (tol = 0.001, component 1)”\n",
      "Warning message in checkConv(attr(opt, \"derivs\"), opt$par, ctrl = control$checkConv, :\n",
      "“Model is nearly unidentifiable: very large eigenvalue\n",
      " - Rescale variables?”\n"
     ]
    },
    {
     "data": {
      "text/plain": [
       "Generalized linear mixed model fit by maximum likelihood (Laplace\n",
       "  Approximation) [glmerMod]\n",
       " Family: binomial  ( logit )\n",
       "Formula: \n",
       "charge_started ~ mail_cent * critical_cent * weekday_cent + mailday_cent +  \n",
       "    (1 | ID)\n",
       "   Data: df\n",
       "\n",
       "     AIC      BIC   logLik deviance df.resid \n",
       "  2189.0   2270.9  -1084.5   2169.0    26702 \n",
       "\n",
       "Scaled residuals: \n",
       "    Min      1Q  Median      3Q     Max \n",
       "-1.1569 -0.0700 -0.0288 -0.0229 21.2577 \n",
       "\n",
       "Random effects:\n",
       " Groups Name        Variance Std.Dev.\n",
       " ID     (Intercept) 4.4      2.098   \n",
       "Number of obs: 26712, groups:  ID, 318\n",
       "\n",
       "Fixed effects:\n",
       "                                       Estimate Std. Error  z value Pr(>|z|)\n",
       "(Intercept)                          -6.8080668  0.0004363 -15605.5   <2e-16\n",
       "mail_cent                             1.4858250  0.0004362   3406.1   <2e-16\n",
       "critical_cent                        -0.1664508  0.0004362   -381.6   <2e-16\n",
       "weekday_cent                          0.0533210  0.0004362    122.2   <2e-16\n",
       "mailday_cent                         -0.2509397  0.0004362   -575.3   <2e-16\n",
       "mail_cent:critical_cent               2.4052915  0.0004362   5514.0   <2e-16\n",
       "mail_cent:weekday_cent               -0.2202523  0.0004362   -504.9   <2e-16\n",
       "critical_cent:weekday_cent            0.0196713  0.0004362     45.1   <2e-16\n",
       "mail_cent:critical_cent:weekday_cent -0.8204076  0.0004362  -1880.8   <2e-16\n",
       "                                        \n",
       "(Intercept)                          ***\n",
       "mail_cent                            ***\n",
       "critical_cent                        ***\n",
       "weekday_cent                         ***\n",
       "mailday_cent                         ***\n",
       "mail_cent:critical_cent              ***\n",
       "mail_cent:weekday_cent               ***\n",
       "critical_cent:weekday_cent           ***\n",
       "mail_cent:critical_cent:weekday_cent ***\n",
       "---\n",
       "Signif. codes:  0 ‘***’ 0.001 ‘**’ 0.01 ‘*’ 0.05 ‘.’ 0.1 ‘ ’ 1\n",
       "\n",
       "Correlation of Fixed Effects:\n",
       "            (Intr) ml_cnt crtcl_ wkdy_c mldy_c ml_cnt:c_ ml_cnt:w_ crt_:_\n",
       "mail_cent   0.000                                                        \n",
       "criticl_cnt 0.000  0.000                                                 \n",
       "weekday_cnt 0.000  0.000  0.000                                          \n",
       "mailday_cnt 0.000  0.000  0.000  0.000                                   \n",
       "ml_cnt:crt_ 0.000  0.000  0.000  0.000  0.000                            \n",
       "ml_cnt:wkd_ 0.000  0.000  0.000  0.000  0.000  0.000                     \n",
       "crtcl_cnt:_ 0.000  0.000  0.000  0.000  0.000  0.000     0.000           \n",
       "ml_cnt:c_:_ 0.000  0.000  0.000  0.000  0.000  0.000     0.000     0.000 \n",
       "convergence code: 0\n",
       "Model failed to converge with max|grad| = 0.162537 (tol = 0.001, component 1)\n",
       "Model is nearly unidentifiable: very large eigenvalue\n",
       " - Rescale variables?\n"
      ]
     },
     "metadata": {},
     "output_type": "display_data"
    }
   ],
   "source": [
    "m4 <- glmer(charge_started ~ mail_cent*critical_cent*weekday_cent + mailday_cent +(1|ID),data=df,family = binomial(link = \"logit\"))\n",
    "summary(m4)"
   ]
  },
  {
   "cell_type": "markdown",
   "metadata": {},
   "source": [
    "### Model: `Starts ~ mailday*critical*weekday  + 1|ID`"
   ]
  },
  {
   "cell_type": "code",
   "execution_count": 11,
   "metadata": {
    "ExecuteTime": {
     "end_time": "2021-02-09T14:37:36.935152Z",
     "start_time": "2021-02-09T14:32:10.600Z"
    }
   },
   "outputs": [
    {
     "name": "stderr",
     "output_type": "stream",
     "text": [
      "Warning message in checkConv(attr(opt, \"derivs\"), opt$par, ctrl = control$checkConv, :\n",
      "“Model failed to converge with max|grad| = 0.00503246 (tol = 0.001, component 1)”\n"
     ]
    },
    {
     "data": {
      "text/plain": [
       "Generalized linear mixed model fit by maximum likelihood (Laplace\n",
       "  Approximation) [glmerMod]\n",
       " Family: binomial  ( logit )\n",
       "Formula: charge_started ~ mailday_cent * critical_cent * weekday_cent +  \n",
       "    (1 | ID)\n",
       "   Data: df\n",
       "\n",
       "     AIC      BIC   logLik deviance df.resid \n",
       "  2277.9   2351.6  -1129.9   2259.9    26703 \n",
       "\n",
       "Scaled residuals: \n",
       "    Min      1Q  Median      3Q     Max \n",
       "-0.7617 -0.0621 -0.0319 -0.0243 16.4105 \n",
       "\n",
       "Random effects:\n",
       " Groups Name        Variance Std.Dev.\n",
       " ID     (Intercept) 3.929    1.982   \n",
       "Number of obs: 26712, groups:  ID, 318\n",
       "\n",
       "Fixed effects:\n",
       "                                        Estimate Std. Error z value Pr(>|z|)\n",
       "(Intercept)                             -6.56224    0.26852 -24.438  < 2e-16\n",
       "mailday_cent                             0.73075    0.15700   4.654 3.25e-06\n",
       "critical_cent                            0.02791    0.15775   0.177    0.860\n",
       "weekday_cent                            -0.03868    0.17604  -0.220    0.826\n",
       "mailday_cent:critical_cent               1.79219    0.31422   5.704 1.17e-08\n",
       "mailday_cent:weekday_cent               -0.27334    0.32543  -0.840    0.401\n",
       "critical_cent:weekday_cent              -0.12748    0.35189  -0.362    0.717\n",
       "mailday_cent:critical_cent:weekday_cent -0.23341    0.64556  -0.362    0.718\n",
       "                                           \n",
       "(Intercept)                             ***\n",
       "mailday_cent                            ***\n",
       "critical_cent                              \n",
       "weekday_cent                               \n",
       "mailday_cent:critical_cent              ***\n",
       "mailday_cent:weekday_cent                  \n",
       "critical_cent:weekday_cent                 \n",
       "mailday_cent:critical_cent:weekday_cent    \n",
       "---\n",
       "Signif. codes:  0 ‘***’ 0.001 ‘**’ 0.01 ‘*’ 0.05 ‘.’ 0.1 ‘ ’ 1\n",
       "\n",
       "Correlation of Fixed Effects:\n",
       "            (Intr) mldy_c crtcl_ wkdy_c mldy_cnt:c_ mldy_cnt:w_ crt_:_\n",
       "mailday_cnt -0.080                                                    \n",
       "criticl_cnt  0.018 -0.310                                             \n",
       "weekday_cnt -0.022  0.207 -0.049                                      \n",
       "mldy_cnt:c_ -0.112 -0.187 -0.206 -0.024                               \n",
       "mldy_cnt:w_  0.071  0.103 -0.027 -0.387 -0.089                        \n",
       "crtcl_cnt:_ -0.013 -0.025 -0.075  0.111  0.208      -0.294            \n",
       "mldy_cn:_:_ -0.001 -0.088  0.222 -0.291  0.101      -0.128      -0.384\n",
       "convergence code: 0\n",
       "Model failed to converge with max|grad| = 0.00503246 (tol = 0.001, component 1)\n"
      ]
     },
     "metadata": {},
     "output_type": "display_data"
    }
   ],
   "source": [
    "m5 <- glmer(charge_started ~ mailday_cent*critical_cent*weekday_cent +(1|ID),data=df,family = binomial(link = \"logit\"))\n",
    "summary(m5)\n",
    "#tab_model(m4)"
   ]
  },
  {
   "cell_type": "markdown",
   "metadata": {
    "ExecuteTime": {
     "end_time": "2020-10-10T12:52:51.002424Z",
     "start_time": "2020-10-10T12:52:49.713Z"
    }
   },
   "source": [
    "### Model: `Starts ~ mailday*critical*weekday  + 1|ID`"
   ]
  },
  {
   "cell_type": "code",
   "execution_count": 12,
   "metadata": {
    "ExecuteTime": {
     "end_time": "2021-02-09T14:40:24.481270Z",
     "start_time": "2021-02-09T14:32:10.608Z"
    }
   },
   "outputs": [
    {
     "name": "stderr",
     "output_type": "stream",
     "text": [
      "Warning message in checkConv(attr(opt, \"derivs\"), opt$par, ctrl = control$checkConv, :\n",
      "“Model failed to converge with max|grad| = 0.165217 (tol = 0.001, component 1)”\n",
      "Warning message in checkConv(attr(opt, \"derivs\"), opt$par, ctrl = control$checkConv, :\n",
      "“Model is nearly unidentifiable: very large eigenvalue\n",
      " - Rescale variables?”\n"
     ]
    },
    {
     "data": {
      "text/plain": [
       "Generalized linear mixed model fit by maximum likelihood (Laplace\n",
       "  Approximation) [glmerMod]\n",
       " Family: binomial  ( logit )\n",
       "Formula: charge_started ~ mailday_cent * critical_cent * weekday_cent +  \n",
       "    mail_cent + (1 | ID)\n",
       "   Data: df\n",
       "\n",
       "     AIC      BIC   logLik deviance df.resid \n",
       "  2210.2   2292.1  -1095.1   2190.2    26702 \n",
       "\n",
       "Scaled residuals: \n",
       "    Min      1Q  Median      3Q     Max \n",
       "-1.0294 -0.0689 -0.0296 -0.0234 25.0702 \n",
       "\n",
       "Random effects:\n",
       " Groups Name        Variance Std.Dev.\n",
       " ID     (Intercept) 4.454    2.11    \n",
       "Number of obs: 26712, groups:  ID, 318\n",
       "\n",
       "Fixed effects:\n",
       "                                          Estimate Std. Error   z value\n",
       "(Intercept)                             -6.7653932  0.0004311 -15693.82\n",
       "mailday_cent                            -0.4669626  0.0004310  -1083.33\n",
       "critical_cent                            0.0737548  0.0004310    171.11\n",
       "weekday_cent                            -0.0099800  0.0004310    -23.15\n",
       "mail_cent                                1.8566810  0.0004310   4307.35\n",
       "mailday_cent:critical_cent               1.8056328  0.0004310   4189.00\n",
       "mailday_cent:weekday_cent               -0.3102594  0.0004310   -719.79\n",
       "critical_cent:weekday_cent              -0.0426804  0.0004310    -99.02\n",
       "mailday_cent:critical_cent:weekday_cent -0.2140291  0.0004310   -496.54\n",
       "                                        Pr(>|z|)    \n",
       "(Intercept)                               <2e-16 ***\n",
       "mailday_cent                              <2e-16 ***\n",
       "critical_cent                             <2e-16 ***\n",
       "weekday_cent                              <2e-16 ***\n",
       "mail_cent                                 <2e-16 ***\n",
       "mailday_cent:critical_cent                <2e-16 ***\n",
       "mailday_cent:weekday_cent                 <2e-16 ***\n",
       "critical_cent:weekday_cent                <2e-16 ***\n",
       "mailday_cent:critical_cent:weekday_cent   <2e-16 ***\n",
       "---\n",
       "Signif. codes:  0 ‘***’ 0.001 ‘**’ 0.01 ‘*’ 0.05 ‘.’ 0.1 ‘ ’ 1\n",
       "\n",
       "Correlation of Fixed Effects:\n",
       "            (Intr) mldy_c crtcl_ wkdy_c ml_cnt mldy_cnt:c_ mldy_cnt:w_ crt_:_\n",
       "mailday_cnt 0.000                                                            \n",
       "criticl_cnt 0.000  0.000                                                     \n",
       "weekday_cnt 0.000  0.000  0.000                                              \n",
       "mail_cent   0.000  0.000  0.000  0.000                                       \n",
       "mldy_cnt:c_ 0.000  0.000  0.000  0.000  0.000                                \n",
       "mldy_cnt:w_ 0.000  0.000  0.000  0.000  0.000  0.000                         \n",
       "crtcl_cnt:_ 0.000  0.000  0.000  0.000  0.000  0.000       0.000             \n",
       "mldy_cn:_:_ 0.000  0.000  0.000  0.000  0.000  0.000       0.000       0.000 \n",
       "convergence code: 0\n",
       "Model failed to converge with max|grad| = 0.165217 (tol = 0.001, component 1)\n",
       "Model is nearly unidentifiable: very large eigenvalue\n",
       " - Rescale variables?\n"
      ]
     },
     "metadata": {},
     "output_type": "display_data"
    }
   ],
   "source": [
    "m6 <- glmer(charge_started ~ mailday_cent*critical_cent*weekday_cent + mail_cent +(1|ID),data=df,family = binomial(link = \"logit\"))\n",
    "summary(m6)"
   ]
  },
  {
   "cell_type": "markdown",
   "metadata": {},
   "source": [
    "### Model: `Starts ~ mail*mailday*critical*weekday  + 1|ID`"
   ]
  },
  {
   "cell_type": "code",
   "execution_count": 13,
   "metadata": {
    "ExecuteTime": {
     "end_time": "2021-02-09T14:43:05.014740Z",
     "start_time": "2021-02-09T14:32:10.615Z"
    }
   },
   "outputs": [
    {
     "name": "stderr",
     "output_type": "stream",
     "text": [
      "fixed-effect model matrix is rank deficient so dropping 4 columns / coefficients\n",
      "\n",
      "Warning message in checkConv(attr(opt, \"derivs\"), opt$par, ctrl = control$checkConv, :\n",
      "“Model failed to converge with max|grad| = 0.698062 (tol = 0.001, component 1)”\n"
     ]
    },
    {
     "data": {
      "text/plain": [
       "Generalized linear mixed model fit by maximum likelihood (Laplace\n",
       "  Approximation) [glmerMod]\n",
       " Family: binomial  ( logit )\n",
       "Formula: \n",
       "charge_started ~ mail_cent * mailday_cent * critical_cent * weekday_cent +  \n",
       "    (1 | ID)\n",
       "   Data: df\n",
       "\n",
       "     AIC      BIC   logLik deviance df.resid \n",
       "  2195.2   2301.7  -1084.6   2169.2    26699 \n",
       "\n",
       "Scaled residuals: \n",
       "    Min      1Q  Median      3Q     Max \n",
       "-1.1309 -0.0736 -0.0318 -0.0252 19.6986 \n",
       "\n",
       "Random effects:\n",
       " Groups Name        Variance Std.Dev.\n",
       " ID     (Intercept) 3.588    1.894   \n",
       "Number of obs: 26712, groups:  ID, 318\n",
       "\n",
       "Fixed effects:\n",
       "                                         Estimate Std. Error z value Pr(>|z|)\n",
       "(Intercept)                             -6.631243   0.255259 -25.979  < 2e-16\n",
       "mail_cent                                1.450836   0.293408   4.945 7.62e-07\n",
       "mailday_cent                            -0.275140   0.263273  -1.045    0.296\n",
       "critical_cent                           -0.148231   0.166089  -0.892    0.372\n",
       "weekday_cent                            -0.008148   0.183869  -0.044    0.965\n",
       "mail_cent:critical_cent                  2.357834   0.578130   4.078 4.54e-05\n",
       "mailday_cent:critical_cent               0.022737   0.524709   0.043    0.965\n",
       "mail_cent:weekday_cent                  -0.024710   0.545977  -0.045    0.964\n",
       "mailday_cent:weekday_cent               -0.272698   0.508693  -0.536    0.592\n",
       "critical_cent:weekday_cent              -0.035086   0.367950  -0.095    0.924\n",
       "mail_cent:critical_cent:weekday_cent    -0.792620   1.090016  -0.727    0.467\n",
       "mailday_cent:critical_cent:weekday_cent  0.149361   1.020501   0.146    0.884\n",
       "                                           \n",
       "(Intercept)                             ***\n",
       "mail_cent                               ***\n",
       "mailday_cent                               \n",
       "critical_cent                              \n",
       "weekday_cent                               \n",
       "mail_cent:critical_cent                 ***\n",
       "mailday_cent:critical_cent                 \n",
       "mail_cent:weekday_cent                     \n",
       "mailday_cent:weekday_cent                  \n",
       "critical_cent:weekday_cent                 \n",
       "mail_cent:critical_cent:weekday_cent       \n",
       "mailday_cent:critical_cent:weekday_cent    \n",
       "---\n",
       "Signif. codes:  0 ‘***’ 0.001 ‘**’ 0.01 ‘*’ 0.05 ‘.’ 0.1 ‘ ’ 1\n",
       "\n",
       "Correlation of Fixed Effects:\n",
       "            (Intr) ml_cnt mldy_c crtcl_ wkdy_c ml_cnt:c_ mldy_cnt:c_ ml_cnt:w_\n",
       "mail_cent   -0.120                                                            \n",
       "mailday_cnt  0.047 -0.774                                                     \n",
       "criticl_cnt  0.047 -0.178  0.015                                              \n",
       "weekday_cnt -0.016 -0.084  0.199 -0.039                                       \n",
       "ml_cnt:crt_ -0.081 -0.036 -0.162 -0.233 -0.034                                \n",
       "mldy_cnt:c_  0.004 -0.160  0.212  0.105  0.036 -0.774                         \n",
       "ml_cnt:wkd_ -0.026  0.339 -0.286 -0.040 -0.180 -0.002    -0.039               \n",
       "mldy_cnt:w_  0.075 -0.277  0.271  0.043 -0.069 -0.039     0.034      -0.733   \n",
       "crtcl_cnt:_ -0.010 -0.033  0.037 -0.058  0.182 -0.085     0.199      -0.170   \n",
       "ml_cnt:c_:_ -0.005 -0.004 -0.038 -0.102 -0.170  0.342    -0.287      -0.049   \n",
       "mldy_cn:_:_  0.013 -0.036  0.031  0.229 -0.018 -0.279     0.272      -0.172   \n",
       "            mldy_cnt:w_ crt_:_ ml_c:_:_\n",
       "mail_cent                              \n",
       "mailday_cnt                            \n",
       "criticl_cnt                            \n",
       "weekday_cnt                            \n",
       "ml_cnt:crt_                            \n",
       "mldy_cnt:c_                            \n",
       "ml_cnt:wkd_                            \n",
       "mldy_cnt:w_                            \n",
       "crtcl_cnt:_ -0.017                     \n",
       "ml_cnt:c_:_ -0.175      -0.180         \n",
       "mldy_cn:_:_  0.238      -0.071 -0.735  \n",
       "fit warnings:\n",
       "fixed-effect model matrix is rank deficient so dropping 4 columns / coefficients\n",
       "convergence code: 0\n",
       "Model failed to converge with max|grad| = 0.698062 (tol = 0.001, component 1)\n"
      ]
     },
     "metadata": {},
     "output_type": "display_data"
    }
   ],
   "source": [
    "m7 <- glmer(charge_started ~ mail_cent*mailday_cent*critical_cent*weekday_cent + (1|ID),data=df,family = binomial(link = \"logit\"))\n",
    "summary(m7)"
   ]
  },
  {
   "cell_type": "code",
   "execution_count": null,
   "metadata": {},
   "outputs": [],
   "source": []
  },
  {
   "cell_type": "code",
   "execution_count": null,
   "metadata": {},
   "outputs": [],
   "source": []
  }
 ],
 "metadata": {
  "kernelspec": {
   "display_name": "R",
   "language": "R",
   "name": "ir"
  },
  "language_info": {
   "codemirror_mode": "r",
   "file_extension": ".r",
   "mimetype": "text/x-r-source",
   "name": "R",
   "pygments_lexer": "r",
   "version": "3.6.3"
  },
  "toc": {
   "base_numbering": 1,
   "nav_menu": {},
   "number_sections": true,
   "sideBar": true,
   "skip_h1_title": false,
   "title_cell": "Table of Contents",
   "title_sidebar": "Contents",
   "toc_cell": false,
   "toc_position": {},
   "toc_section_display": true,
   "toc_window_display": false
  }
 },
 "nbformat": 4,
 "nbformat_minor": 4
}
