{
 "cells": [
  {
   "cell_type": "markdown",
   "metadata": {},
   "source": [
    "# Read Data"
   ]
  },
  {
   "cell_type": "markdown",
   "metadata": {},
   "source": [
    "## Read Long Format data"
   ]
  },
  {
   "cell_type": "code",
   "execution_count": 1,
   "metadata": {
    "ExecuteTime": {
     "end_time": "2021-02-09T14:32:06.350913Z",
     "start_time": "2021-02-09T14:32:03.256250Z"
    }
   },
   "outputs": [],
   "source": [
    "import pandas as pd\n",
    "df = pd.read_pickle('output/critical_15min_long_format.pickle')\n",
    "\n",
    "# string representation of time\n",
    "df['interval_timestr'] = df['interval_time'].astype(str)\n",
    "\n",
    "# calculate kgCO2eq \n",
    "df['kgCO2eq'] = df['charge'] * df['kgCO2eq/kWh']\n"
   ]
  },
  {
   "cell_type": "markdown",
   "metadata": {},
   "source": [
    "## Read and prepare Survey Data"
   ]
  },
  {
   "cell_type": "code",
   "execution_count": 2,
   "metadata": {
    "ExecuteTime": {
     "end_time": "2021-02-09T14:32:06.478822Z",
     "start_time": "2021-02-09T14:32:06.367644Z"
    }
   },
   "outputs": [],
   "source": [
    "# read data\n",
    "survey_df = pd.read_csv('input/freq_survey.csv')\n",
    "                        \n",
    "# calculate a weight for the distribution\n",
    "survey_df['Weight'] = survey_df['Freq'] / survey_df['Freq'].sum() \n",
    "                        \n",
    "# transorm times to datetimes\n",
    "survey_df['Time start'] = pd.to_datetime(survey_df['Time start']) \n",
    "survey_df['Time End'] = pd.to_datetime(survey_df['Time End']) \n",
    "\n",
    "# create a distribution with 15 minutes intervals\n",
    "survey_df = pd.DataFrame([(interval, row['Weight']) \n",
    "                          for _,row in survey_df.iterrows() \n",
    "                          for interval in pd.date_range(row['Time start'], row['Time End'], freq='15min', closed='left')], \n",
    "                         columns=['interval_time', 'weight'])\n",
    "\n",
    "# string representation of time\n",
    "survey_df['interval_timestr'] = survey_df['interval_time'].dt.time.astype(str)\n",
    "\n",
    "# represent the distribution as a series\n",
    "survey_dist = survey_df.set_index('interval_timestr')['weight']\n",
    "                        \n",
    "# re-weight the weights after the 15 minutes time expansion\n",
    "survey_dist= survey_dist / survey_dist.sum()"
   ]
  },
  {
   "cell_type": "markdown",
   "metadata": {},
   "source": [
    "# Calculate the projections"
   ]
  },
  {
   "cell_type": "code",
   "execution_count": 3,
   "metadata": {
    "ExecuteTime": {
     "end_time": "2021-02-09T14:32:07.302469Z",
     "start_time": "2021-02-09T14:32:06.488087Z"
    }
   },
   "outputs": [
    {
     "name": "stdout",
     "output_type": "stream",
     "text": [
      "1136.428325141204\n"
     ]
    }
   ],
   "source": [
    "kilowatts = df[df.mailday & df.mailed].charge.sum()\n",
    "print(kilowatts)\n",
    "\n",
    "# extract a time series of the co2 emisions\n",
    "co2 = df.drop_duplicates(['interval', '17h_day', 'mailday', 'interval_timestr', 'kgCO2eq/kWh']).copy()\n",
    "\n",
    "# split them in the ones for maildays, and the one for non mail days\n",
    "co2_md = co2.loc[co2.mailday,:].groupby(['interval_timestr'])['kgCO2eq/kWh'].mean()\n",
    "co2_nmd = co2.loc[~co2.mailday,:].groupby(['interval_timestr'])['kgCO2eq/kWh'].mean()\n",
    "\n",
    "# a dummy uniform distribution for the minimum values\n",
    "co2_md_min = co2_md.copy()\n",
    "co2_md_min = co2_md.min()\n",
    "\n",
    "# a dummy uniform distribution for the maximum values\n",
    "co2_md_max = co2_md.copy()\n",
    "co2_md_max = co2_md.max()\n",
    "\n",
    "# a dummy uniform distribution for the mean \n",
    "co2_md_mean = co2_md.copy()\n",
    "co2_md_mean = co2_md.mean()\n",
    "\n",
    "# mean kgCO2eq/kWh for critical times\n",
    "mean_crit = co2[co2.mailday & ((pd.to_timedelta(co2['interval_time'].astype(str)) >=  pd.Timedelta('11:00:00')) & \n",
    "    (pd.to_timedelta(co2['interval_time'].astype(str)) <  pd.Timedelta('15:00:00')))]['kgCO2eq/kWh'].mean()\n",
    "\n",
    "# mean kgCO2eq/kWh for critical times\n",
    "mean_noncrit = co2[co2.mailday & ~((pd.to_timedelta(co2['interval_time'].astype(str)) >=  pd.Timedelta('11:00:00')) & \n",
    "    (pd.to_timedelta(co2['interval_time'].astype(str)) <  pd.Timedelta('15:00:00')))]['kgCO2eq/kWh'].mean()"
   ]
  },
  {
   "cell_type": "code",
   "execution_count": 4,
   "metadata": {
    "ExecuteTime": {
     "end_time": "2021-02-09T14:32:07.582903Z",
     "start_time": "2021-02-09T14:32:07.304922Z"
    }
   },
   "outputs": [
    {
     "data": {
      "text/plain": [
       "{'Real emissions': 81.96495600460017,\n",
       " 'Projection using charging\\ndistribution from\\nno mail days': 163.55511467396263,\n",
       " 'Projection using charging\\ndistribution based\\non survey-data': 163.1567790203512}"
      ]
     },
     "execution_count": 4,
     "metadata": {},
     "output_type": "execute_result"
    }
   ],
   "source": [
    "# calculate the kw distribution for maildays and non maildays\n",
    "kw_md_dist = df.loc[df.mailday & df.mailed, :].groupby(['interval_timestr'])['charge'].sum()\n",
    "kw_nmd_dist = df.loc[~df.mailday,:].groupby(['interval_timestr'])['charge'].sum()\n",
    "\n",
    "# normalize (or weight theme)\n",
    "kw_md_dist = kw_md_dist / kw_md_dist.sum()\n",
    "kw_nmd_dist = kw_nmd_dist / kw_nmd_dist.sum()\n",
    "\n",
    "# create the projections that will be bars in the plot\n",
    "dict_bars = {\n",
    "'Real emissions': df.loc[df.mailday & df.mailed,:]['kgCO2eq'].sum(),\n",
    "'Projection using charging\\ndistribution from\\nno mail days': ((kw_nmd_dist*kilowatts) * co2_nmd).sum(),\n",
    "#'proj2mean_crit': (kilowatts * mean_crit).sum(),\n",
    "#'proj2mean_noncrit': (kilowatts * mean_noncrit).sum(),\n",
    "'Projection using charging\\ndistribution based\\non survey-data': ((survey_dist*kilowatts) * co2_md).sum(),\n",
    "}\n",
    "\n",
    "# create the projections that will be lines in the plot\n",
    "dict_lines = {\n",
    "'min': ((kw_md_dist*kilowatts) * co2_md_min).sum(),\n",
    "'max': ((kw_md_dist*kilowatts) * co2_md_max).sum(),\n",
    "'mean': ((kw_md_dist*kilowatts) * co2_md_mean).sum(),\n",
    "}\n",
    "dict_bars\n"
   ]
  },
  {
   "cell_type": "markdown",
   "metadata": {},
   "source": [
    "# Plot the projections"
   ]
  },
  {
   "cell_type": "code",
   "execution_count": 5,
   "metadata": {
    "ExecuteTime": {
     "end_time": "2021-02-09T14:32:09.873132Z",
     "start_time": "2021-02-09T14:32:07.584864Z"
    }
   },
   "outputs": [
    {
     "data": {
      "image/png": "[encoded data removed]",
      "text/plain": [
       "<Figure size 720x432 with 1 Axes>"
      ]
     },
     "metadata": {},
     "output_type": "display_data"
    }
   ],
   "source": [
    "import seaborn as sns\n",
    "from matplotlib import pyplot as plt\n",
    "sns.set(style=\"whitegrid\", font_scale=1.2)\n",
    "\n",
    "fig, ax= plt.subplots(figsize=(10,6))\n",
    "\n",
    "dfplot = pd.Series(dict_bars).to_frame().reset_index()\n",
    "\n",
    "sns.set_palette([ (0.3, 0.7, 0.2), (1.0, 0.5, 0.1), (0.2, 0.5, 0.8)])\n",
    "g = sns.barplot(data=dfplot, x=\"index\", y=0)\n",
    "\n",
    "g.axes.axhline(dict_lines['min'], ls='--', c='red')\n",
    "g.axes.axhline(dict_lines['max'], ls='--', c='blue')\n",
    "g.axes.axhline(dict_lines['mean'], ls='-', c='black')\n",
    "\n",
    "for index, row in dfplot.iterrows():\n",
    "    g.text(row.name,row[0], round(row[0],2), color='black', ha=\"center\")\n",
    "\n",
    "g.axes.set_xlabel('')\n",
    "g.axes.set_ylabel('$CO_2eq$ emissions in kg')\n",
    "\n",
    "plt.tight_layout()"
   ]
  },
  {
   "cell_type": "code",
   "execution_count": null,
   "metadata": {},
   "outputs": [],
   "source": []
  }
 ],
 "metadata": {
  "kernelspec": {
   "display_name": "Python 3",
   "language": "python",
   "name": "python3"
  },
  "language_info": {
   "codemirror_mode": {
    "name": "ipython",
    "version": 3
   },
   "file_extension": ".py",
   "mimetype": "text/x-python",
   "name": "python",
   "nbconvert_exporter": "python",
   "pygments_lexer": "ipython3",
   "version": "3.8.2"
  },
  "toc": {
   "base_numbering": 1,
   "nav_menu": {},
   "number_sections": true,
   "sideBar": true,
   "skip_h1_title": false,
   "title_cell": "Table of Contents",
   "title_sidebar": "Contents",
   "toc_cell": false,
   "toc_position": {},
   "toc_section_display": true,
   "toc_window_display": false
  }
 },
 "nbformat": 4,
 "nbformat_minor": 4
}
