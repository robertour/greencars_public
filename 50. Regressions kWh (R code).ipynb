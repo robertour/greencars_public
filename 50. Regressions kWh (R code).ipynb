{
 "cells": [
  {
   "cell_type": "code",
   "execution_count": 1,
   "metadata": {
    "ExecuteTime": {
     "end_time": "2021-02-09T14:32:20.581315Z",
     "start_time": "2021-02-09T14:32:16.525Z"
    }
   },
   "outputs": [
    {
     "name": "stderr",
     "output_type": "stream",
     "text": [
      "Loading required package: Matrix\n",
      "\n",
      "\n",
      "Attaching package: ‘lmerTest’\n",
      "\n",
      "\n",
      "The following object is masked from ‘package:lme4’:\n",
      "\n",
      "    lmer\n",
      "\n",
      "\n",
      "The following object is masked from ‘package:stats’:\n",
      "\n",
      "    step\n",
      "\n",
      "\n"
     ]
    }
   ],
   "source": [
    "library(lme4)\n",
    "library(lmerTest)\n",
    "library(sjPlot)"
   ]
  },
  {
   "cell_type": "markdown",
   "metadata": {},
   "source": [
    "# Load data"
   ]
  },
  {
   "cell_type": "code",
   "execution_count": 2,
   "metadata": {
    "ExecuteTime": {
     "end_time": "2021-02-09T14:32:20.863321Z",
     "start_time": "2021-02-09T14:32:16.555Z"
    },
    "scrolled": false
   },
   "outputs": [],
   "source": [
    "df <- read.csv(\"output/critical_long_format.csv\")\n",
    "#df <- read.csv(\"output/critical_long_format_with_dummy.csv\")\n",
    "df$ID <- df$client_id"
   ]
  },
  {
   "cell_type": "markdown",
   "metadata": {},
   "source": [
    "# Data preparation"
   ]
  },
  {
   "cell_type": "code",
   "execution_count": 3,
   "metadata": {
    "ExecuteTime": {
     "end_time": "2021-02-09T14:32:21.157502Z",
     "start_time": "2021-02-09T14:32:16.584Z"
    }
   },
   "outputs": [],
   "source": [
    "# center binary variables\n",
    "df$critical_cent <- scale(df$critical, scale=F)\n",
    "df$mail_cent <- scale(df$mailed, scale=F)\n",
    "df$mailday_cent <- scale(df$mailday, scale=F)\n",
    "df$weekday_cent <- scale(df$is_weekday, scale=F)\n"
   ]
  },
  {
   "cell_type": "code",
   "execution_count": 4,
   "metadata": {
    "ExecuteTime": {
     "end_time": "2021-02-09T14:32:21.212946Z",
     "start_time": "2021-02-09T14:32:16.604Z"
    }
   },
   "outputs": [],
   "source": [
    "# factors for green hours, mail and mailday\n",
    "df$critical_f <- as.factor(df$critical)\n",
    "levels(df$critical_f) <- c(\"No green hours\",\"Green hours (11am to 3pm)\")\n",
    "df$mail_f <- as.factor(df$mailed)\n",
    "levels(df$mail_f) <- c(\"No mail\",\"Green mail\")\n",
    "df$mail_day_f <- as.factor(df$mailday)\n",
    "levels(df$mail_day_f) <- c(\"No mail for day\",\"Mail for day\")\n",
    "df$weekday_f <- as.factor(df$is_weekday)\n",
    "levels(df$weekday_f) <- c(\"Mo-Fr\",\"Sa-Su\")"
   ]
  },
  {
   "cell_type": "code",
   "execution_count": 5,
   "metadata": {
    "ExecuteTime": {
     "end_time": "2021-02-09T14:32:21.272004Z",
     "start_time": "2021-02-09T14:32:16.625Z"
    }
   },
   "outputs": [],
   "source": [
    "df_maildays = df[df$mailday == 1,]\n",
    "df_nomaildays = df[df$mailday == 0,]\n",
    "\n",
    "df_nomail = df[df$mailed == 0,]"
   ]
  },
  {
   "cell_type": "markdown",
   "metadata": {},
   "source": [
    "# Analyzing start of chargers"
   ]
  },
  {
   "cell_type": "markdown",
   "metadata": {
    "ExecuteTime": {
     "end_time": "2020-10-10T14:58:27.038182Z",
     "start_time": "2020-10-10T14:58:27.016Z"
    }
   },
   "source": [
    "## MailDays"
   ]
  },
  {
   "cell_type": "markdown",
   "metadata": {
    "ExecuteTime": {
     "end_time": "2020-10-10T14:55:58.662648Z",
     "start_time": "2020-10-10T14:55:58.636Z"
    }
   },
   "source": [
    "### Model: `Charge ~ mail*critical + 1|D`"
   ]
  },
  {
   "cell_type": "code",
   "execution_count": 6,
   "metadata": {
    "ExecuteTime": {
     "end_time": "2021-02-09T14:32:22.140792Z",
     "start_time": "2021-02-09T14:32:16.735Z"
    }
   },
   "outputs": [
    {
     "data": {
      "text/plain": [
       "Linear mixed model fit by REML. t-tests use Satterthwaite's method [\n",
       "lmerModLmerTest]\n",
       "Formula: charge ~ mail_cent * critical_cent + (1 | ID)\n",
       "   Data: df_maildays\n",
       "\n",
       "REML criterion at convergence: 29370\n",
       "\n",
       "Scaled residuals: \n",
       "    Min      1Q  Median      3Q     Max \n",
       "-2.3239 -0.2412  0.0067  0.0540 25.5930 \n",
       "\n",
       "Random effects:\n",
       " Groups   Name        Variance Std.Dev.\n",
       " ID       (Intercept) 0.179    0.4231  \n",
       " Residual             1.946    1.3948  \n",
       "Number of obs: 8268, groups:  ID, 318\n",
       "\n",
       "Fixed effects:\n",
       "                         Estimate Std. Error        df t value Pr(>|t|)    \n",
       "(Intercept)             7.034e-02  3.017e-02 4.094e+02   2.331   0.0202 *  \n",
       "mail_cent               2.602e-01  3.152e-02 8.211e+03   8.255  < 2e-16 ***\n",
       "critical_cent           3.073e-02  3.697e-02 7.947e+03   0.831   0.4060    \n",
       "mail_cent:critical_cent 3.877e-01  6.138e-02 7.947e+03   6.316 2.83e-10 ***\n",
       "---\n",
       "Signif. codes:  0 ‘***’ 0.001 ‘**’ 0.01 ‘*’ 0.05 ‘.’ 0.1 ‘ ’ 1\n",
       "\n",
       "Correlation of Fixed Effects:\n",
       "            (Intr) ml_cnt crtcl_\n",
       "mail_cent   -0.351              \n",
       "criticl_cnt  0.000  0.000       \n",
       "ml_cnt:crt_  0.000  0.000 -0.558"
      ]
     },
     "metadata": {},
     "output_type": "display_data"
    }
   ],
   "source": [
    "m1 <- lmer(charge ~ mail_cent*critical_cent+(1|ID),data=df_maildays)\n",
    "summary(m1)\n",
    "#tab_model(m1)\n"
   ]
  },
  {
   "cell_type": "markdown",
   "metadata": {},
   "source": [
    "### Model: `Charge ~ mail*critical*weekday + 1|D`"
   ]
  },
  {
   "cell_type": "code",
   "execution_count": 7,
   "metadata": {
    "ExecuteTime": {
     "end_time": "2021-02-09T14:32:22.829259Z",
     "start_time": "2021-02-09T14:32:16.744Z"
    },
    "scrolled": false
   },
   "outputs": [
    {
     "data": {
      "text/plain": [
       "Linear mixed model fit by REML. t-tests use Satterthwaite's method [\n",
       "lmerModLmerTest]\n",
       "Formula: charge ~ mail_cent * weekday_cent * critical_cent + (1 | ID)\n",
       "   Data: df_maildays\n",
       "\n",
       "REML criterion at convergence: 29368\n",
       "\n",
       "Scaled residuals: \n",
       "    Min      1Q  Median      3Q     Max \n",
       "-2.4257 -0.1737  0.0104  0.0514 25.5103 \n",
       "\n",
       "Random effects:\n",
       " Groups   Name        Variance Std.Dev.\n",
       " ID       (Intercept) 0.1791   0.4232  \n",
       " Residual             1.9424   1.3937  \n",
       "Number of obs: 8268, groups:  ID, 318\n",
       "\n",
       "Fixed effects:\n",
       "                                       Estimate Std. Error         df t value\n",
       "(Intercept)                             0.06518    0.03076  441.52004   2.119\n",
       "mail_cent                               0.24581    0.03294 8210.19974   7.461\n",
       "weekday_cent                           -0.03421    0.03733 8050.95044  -0.917\n",
       "critical_cent                           0.02898    0.03880 7942.96902   0.747\n",
       "mail_cent:weekday_cent                 -0.10297    0.06320 8207.65265  -1.629\n",
       "mail_cent:critical_cent                 0.34487    0.06411 7942.96902   5.379\n",
       "weekday_cent:critical_cent             -0.01528    0.07403 7942.96902  -0.206\n",
       "mail_cent:weekday_cent:critical_cent   -0.29559    0.12305 7942.96902  -2.402\n",
       "                                     Pr(>|t|)    \n",
       "(Intercept)                            0.0347 *  \n",
       "mail_cent                            9.43e-14 ***\n",
       "weekday_cent                           0.3594    \n",
       "critical_cent                          0.4552    \n",
       "mail_cent:weekday_cent                 0.1033    \n",
       "mail_cent:critical_cent              7.70e-08 ***\n",
       "weekday_cent:critical_cent             0.8365    \n",
       "mail_cent:weekday_cent:critical_cent   0.0163 *  \n",
       "---\n",
       "Signif. codes:  0 ‘***’ 0.001 ‘**’ 0.01 ‘*’ 0.05 ‘.’ 0.1 ‘ ’ 1\n",
       "\n",
       "Correlation of Fixed Effects:\n",
       "            (Intr) ml_cnt wkdy_c crtcl_ ml_cnt:w_ ml_cnt:c_ wkd_:_\n",
       "mail_cent   -0.365                                                \n",
       "weekday_cnt  0.195 -0.180                                         \n",
       "criticl_cnt  0.000  0.000  0.000                                  \n",
       "ml_cnt:wkd_ -0.114  0.292 -0.567  0.000                           \n",
       "ml_cnt:crt_  0.000  0.000  0.000 -0.563  0.000                    \n",
       "wkdy_cnt:c_  0.000  0.000  0.000  0.305  0.000    -0.176          \n",
       "ml_cnt:w_:_  0.000  0.000  0.000 -0.175  0.000     0.291    -0.557"
      ]
     },
     "metadata": {},
     "output_type": "display_data"
    }
   ],
   "source": [
    "m1 <- lmer(charge ~ mail_cent*weekday_cent*critical_cent+(1|ID),data=df_maildays)\n",
    "summary(m1)\n",
    "#tab_model(m1)"
   ]
  },
  {
   "cell_type": "markdown",
   "metadata": {
    "ExecuteTime": {
     "end_time": "2020-10-10T14:58:58.842894Z",
     "start_time": "2020-10-10T14:58:58.822Z"
    }
   },
   "source": [
    "## No Mail Days"
   ]
  },
  {
   "cell_type": "markdown",
   "metadata": {},
   "source": [
    "### Model: `Charge ~ critical*weekday + 1|ID`\n"
   ]
  },
  {
   "cell_type": "code",
   "execution_count": 8,
   "metadata": {
    "ExecuteTime": {
     "end_time": "2021-02-09T14:32:23.819600Z",
     "start_time": "2021-02-09T14:32:16.760Z"
    }
   },
   "outputs": [
    {
     "data": {
      "text/plain": [
       "Linear mixed model fit by REML. t-tests use Satterthwaite's method [\n",
       "lmerModLmerTest]\n",
       "Formula: charge ~ critical_cent * weekday_cent + (1 | ID)\n",
       "   Data: df_nomaildays\n",
       "\n",
       "REML criterion at convergence: 50890.6\n",
       "\n",
       "Scaled residuals: \n",
       "   Min     1Q Median     3Q    Max \n",
       "-3.717 -0.040 -0.001  0.001 47.331 \n",
       "\n",
       "Random effects:\n",
       " Groups   Name        Variance Std.Dev.\n",
       " ID       (Intercept) 0.07152  0.2674  \n",
       " Residual             0.89621  0.9467  \n",
       "Number of obs: 18444, groups:  ID, 318\n",
       "\n",
       "Fixed effects:\n",
       "                             Estimate Std. Error         df t value Pr(>|t|)\n",
       "(Intercept)                 6.422e-02  1.657e-02  3.199e+02   3.875  0.00013\n",
       "critical_cent              -3.280e-02  1.412e-02  1.812e+04  -2.323  0.02018\n",
       "weekday_cent                2.769e-02  1.629e-02  1.812e+04   1.700  0.08917\n",
       "critical_cent:weekday_cent -1.907e-02  3.258e-02  1.812e+04  -0.585  0.55836\n",
       "                              \n",
       "(Intercept)                ***\n",
       "critical_cent              *  \n",
       "weekday_cent               .  \n",
       "critical_cent:weekday_cent    \n",
       "---\n",
       "Signif. codes:  0 ‘***’ 0.001 ‘**’ 0.01 ‘*’ 0.05 ‘.’ 0.1 ‘ ’ 1\n",
       "\n",
       "Correlation of Fixed Effects:\n",
       "            (Intr) crtcl_ wkdy_c\n",
       "criticl_cnt  0.000              \n",
       "weekday_cnt -0.067  0.000       \n",
       "crtcl_cnt:_  0.000 -0.157  0.000"
      ]
     },
     "metadata": {},
     "output_type": "display_data"
    }
   ],
   "source": [
    "m2 <- lmer(charge ~ critical_cent*weekday_cent+(1|ID),data=df_nomaildays)\n",
    "summary(m2)\n",
    "#tab_model(m1)"
   ]
  },
  {
   "cell_type": "markdown",
   "metadata": {},
   "source": [
    "## ALL: Mail and No Mail Days"
   ]
  },
  {
   "cell_type": "markdown",
   "metadata": {},
   "source": [
    "### Model: `Charge ~ mail*critical*weekday  + mailday_cent + 1|ID`"
   ]
  },
  {
   "cell_type": "code",
   "execution_count": 9,
   "metadata": {
    "ExecuteTime": {
     "end_time": "2021-02-09T14:32:25.362506Z",
     "start_time": "2021-02-09T14:32:16.796Z"
    }
   },
   "outputs": [
    {
     "data": {
      "text/plain": [
       "Linear mixed model fit by REML. t-tests use Satterthwaite's method [\n",
       "lmerModLmerTest]\n",
       "Formula: charge ~ mail_cent * critical_cent * weekday_cent + mailday_cent +  \n",
       "    (1 | ID)\n",
       "   Data: df\n",
       "\n",
       "REML criterion at convergence: 82349.9\n",
       "\n",
       "Scaled residuals: \n",
       "   Min     1Q Median     3Q    Max \n",
       "-2.868 -0.057 -0.003  0.024 40.299 \n",
       "\n",
       "Random effects:\n",
       " Groups   Name        Variance Std.Dev.\n",
       " ID       (Intercept) 0.07607  0.2758  \n",
       " Residual             1.24847  1.1174  \n",
       "Number of obs: 26712, groups:  ID, 318\n",
       "\n",
       "Fixed effects:\n",
       "                                       Estimate Std. Error         df t value\n",
       "(Intercept)                           9.149e-02  1.693e-02  3.185e+02   5.404\n",
       "mail_cent                             2.417e-01  2.549e-02  2.655e+04   9.483\n",
       "critical_cent                         2.075e-02  1.378e-02  2.639e+04   1.506\n",
       "weekday_cent                         -4.182e-03  1.522e-02  2.639e+04  -0.275\n",
       "mailday_cent                         -3.198e-02  1.948e-02  2.646e+04  -1.641\n",
       "mail_cent:critical_cent               3.546e-01  3.954e-02  2.639e+04   8.966\n",
       "mail_cent:weekday_cent               -1.395e-01  3.940e-02  2.650e+04  -3.540\n",
       "critical_cent:weekday_cent           -4.723e-02  2.991e-02  2.639e+04  -1.579\n",
       "mail_cent:critical_cent:weekday_cent -2.580e-01  7.803e-02  2.639e+04  -3.306\n",
       "                                     Pr(>|t|)    \n",
       "(Intercept)                          1.28e-07 ***\n",
       "mail_cent                             < 2e-16 ***\n",
       "critical_cent                        0.132047    \n",
       "weekday_cent                         0.783424    \n",
       "mailday_cent                         0.100768    \n",
       "mail_cent:critical_cent               < 2e-16 ***\n",
       "mail_cent:weekday_cent               0.000401 ***\n",
       "critical_cent:weekday_cent           0.114286    \n",
       "mail_cent:critical_cent:weekday_cent 0.000948 ***\n",
       "---\n",
       "Signif. codes:  0 ‘***’ 0.001 ‘**’ 0.01 ‘*’ 0.05 ‘.’ 0.1 ‘ ’ 1\n",
       "\n",
       "Correlation of Fixed Effects:\n",
       "            (Intr) ml_cnt crtcl_ wkdy_c mldy_c ml_cnt:c_ ml_cnt:w_ crt_:_\n",
       "mail_cent    0.011                                                       \n",
       "criticl_cnt  0.000  0.000                                                \n",
       "weekday_cnt -0.004 -0.030  0.000                                         \n",
       "mailday_cnt -0.004 -0.625  0.000  0.185                                  \n",
       "ml_cnt:crt_  0.000  0.000  0.027  0.000  0.000                           \n",
       "ml_cnt:wkd_  0.050  0.226  0.000 -0.085 -0.085  0.000                    \n",
       "crtcl_cnt:_  0.000  0.000 -0.009  0.000  0.000  0.111     0.000          \n",
       "ml_cnt:c_:_  0.000  0.000  0.122  0.000  0.000  0.223     0.000    -0.070"
      ]
     },
     "metadata": {},
     "output_type": "display_data"
    }
   ],
   "source": [
    "m4 <- lmer(charge ~ mail_cent*critical_cent*weekday_cent + mailday_cent +(1|ID),data=df)\n",
    "summary(m4)"
   ]
  },
  {
   "cell_type": "markdown",
   "metadata": {},
   "source": [
    "### Model: `Charge ~ mailday*critical*weekday  + 1|ID`"
   ]
  },
  {
   "cell_type": "code",
   "execution_count": 10,
   "metadata": {
    "ExecuteTime": {
     "end_time": "2021-02-09T14:32:27.011251Z",
     "start_time": "2021-02-09T14:32:16.807Z"
    }
   },
   "outputs": [
    {
     "data": {
      "text/plain": [
       "Linear mixed model fit by REML. t-tests use Satterthwaite's method [\n",
       "lmerModLmerTest]\n",
       "Formula: charge ~ mailday_cent * critical_cent * weekday_cent + (1 | ID)\n",
       "   Data: df\n",
       "\n",
       "REML criterion at convergence: 82531.8\n",
       "\n",
       "Scaled residuals: \n",
       "   Min     1Q Median     3Q    Max \n",
       "-3.000 -0.094 -0.012  0.023 40.168 \n",
       "\n",
       "Random effects:\n",
       " Groups   Name        Variance Std.Dev.\n",
       " ID       (Intercept) 0.07513  0.2741  \n",
       " Residual             1.25740  1.1213  \n",
       "Number of obs: 26712, groups:  ID, 318\n",
       "\n",
       "Fixed effects:\n",
       "                                          Estimate Std. Error         df\n",
       "(Intercept)                              9.018e-02  1.690e-02  3.219e+02\n",
       "mailday_cent                             8.387e-02  1.537e-02  2.639e+04\n",
       "critical_cent                            2.215e-02  1.404e-02  2.639e+04\n",
       "weekday_cent                            -7.197e-04  1.537e-02  2.639e+04\n",
       "mailday_cent:critical_cent               1.775e-01  3.073e-02  2.639e+04\n",
       "mailday_cent:weekday_cent               -9.179e-02  3.137e-02  2.639e+04\n",
       "critical_cent:weekday_cent              -4.641e-02  3.073e-02  2.639e+04\n",
       "mailday_cent:critical_cent:weekday_cent -8.834e-02  6.275e-02  2.639e+04\n",
       "                                        t value Pr(>|t|)    \n",
       "(Intercept)                               5.337 1.79e-07 ***\n",
       "mailday_cent                              5.458 4.86e-08 ***\n",
       "critical_cent                             1.578  0.11450    \n",
       "weekday_cent                             -0.047  0.96264    \n",
       "mailday_cent:critical_cent                5.777 7.70e-09 ***\n",
       "mailday_cent:weekday_cent                -2.926  0.00344 ** \n",
       "critical_cent:weekday_cent               -1.510  0.13102    \n",
       "mailday_cent:critical_cent:weekday_cent  -1.408  0.15918    \n",
       "---\n",
       "Signif. codes:  0 ‘***’ 0.001 ‘**’ 0.01 ‘*’ 0.05 ‘.’ 0.1 ‘ ’ 1\n",
       "\n",
       "Correlation of Fixed Effects:\n",
       "            (Intr) mldy_c crtcl_ wkdy_c mldy_cnt:c_ mldy_cnt:w_ crt_:_\n",
       "mailday_cnt  0.012                                                    \n",
       "criticl_cnt  0.000  0.000                                             \n",
       "weekday_cnt -0.012  0.196  0.000                                      \n",
       "mldy_cnt:c_  0.000  0.000  0.030  0.000                               \n",
       "mldy_cnt:w_  0.087  0.140  0.000 -0.140  0.000                        \n",
       "crtcl_cnt:_  0.000  0.000 -0.030  0.000  0.196       0.000            \n",
       "mldy_cn:_:_  0.000  0.000  0.210  0.000  0.140       0.000      -0.140"
      ]
     },
     "metadata": {},
     "output_type": "display_data"
    }
   ],
   "source": [
    "m5 <- lmer(charge ~ mailday_cent*critical_cent*weekday_cent +(1|ID),data=df)\n",
    "summary(m5)\n",
    "#tab_model(m4)"
   ]
  },
  {
   "cell_type": "markdown",
   "metadata": {
    "ExecuteTime": {
     "end_time": "2020-10-10T12:52:51.002424Z",
     "start_time": "2020-10-10T12:52:49.713Z"
    }
   },
   "source": [
    "### Model: `Charge ~ mailday*critical*weekday  + mail + 1|ID`"
   ]
  },
  {
   "cell_type": "code",
   "execution_count": 11,
   "metadata": {
    "ExecuteTime": {
     "end_time": "2021-02-09T14:32:28.824510Z",
     "start_time": "2021-02-09T14:32:16.816Z"
    }
   },
   "outputs": [
    {
     "data": {
      "text/plain": [
       "Linear mixed model fit by REML. t-tests use Satterthwaite's method [\n",
       "lmerModLmerTest]\n",
       "Formula: charge ~ mail_cent + mailday_cent * critical_cent * weekday_cent +  \n",
       "    (1 | ID)\n",
       "   Data: df\n",
       "\n",
       "REML criterion at convergence: 82425.5\n",
       "\n",
       "Scaled residuals: \n",
       "   Min     1Q Median     3Q    Max \n",
       "-2.966 -0.115 -0.009  0.025 40.241 \n",
       "\n",
       "Random effects:\n",
       " Groups   Name        Variance Std.Dev.\n",
       " ID       (Intercept) 0.07603  0.2757  \n",
       " Residual             1.25199  1.1189  \n",
       "Number of obs: 26712, groups:  ID, 318\n",
       "\n",
       "Fixed effects:\n",
       "                                          Estimate Std. Error         df\n",
       "(Intercept)                              8.996e-02  1.697e-02  3.218e+02\n",
       "mail_cent                                2.632e-01  2.486e-02  2.656e+04\n",
       "mailday_cent                            -4.499e-02  1.958e-02  2.646e+04\n",
       "critical_cent                            2.215e-02  1.401e-02  2.639e+04\n",
       "weekday_cent                            -2.153e-03  1.533e-02  2.639e+04\n",
       "mailday_cent:critical_cent               1.775e-01  3.067e-02  2.639e+04\n",
       "mailday_cent:weekday_cent               -9.642e-02  3.131e-02  2.639e+04\n",
       "critical_cent:weekday_cent              -4.641e-02  3.067e-02  2.639e+04\n",
       "mailday_cent:critical_cent:weekday_cent -8.834e-02  6.261e-02  2.639e+04\n",
       "                                        t value Pr(>|t|)    \n",
       "(Intercept)                               5.300 2.15e-07 ***\n",
       "mail_cent                                10.586  < 2e-16 ***\n",
       "mailday_cent                             -2.298  0.02157 *  \n",
       "critical_cent                             1.582  0.11372    \n",
       "weekday_cent                             -0.140  0.88834    \n",
       "mailday_cent:critical_cent                5.789 7.15e-09 ***\n",
       "mailday_cent:weekday_cent                -3.080  0.00207 ** \n",
       "critical_cent:weekday_cent               -1.513  0.13019    \n",
       "mailday_cent:critical_cent:weekday_cent  -1.411  0.15828    \n",
       "---\n",
       "Signif. codes:  0 ‘***’ 0.001 ‘**’ 0.01 ‘*’ 0.05 ‘.’ 0.1 ‘ ’ 1\n",
       "\n",
       "Correlation of Fixed Effects:\n",
       "            (Intr) ml_cnt mldy_c crtcl_ wkdy_c mldy_cnt:c_ mldy_cnt:w_ crt_:_\n",
       "mail_cent   -0.001                                                           \n",
       "mailday_cnt  0.010 -0.622                                                    \n",
       "criticl_cnt  0.000  0.000  0.000                                             \n",
       "weekday_cnt -0.012 -0.009  0.159  0.000                                      \n",
       "mldy_cnt:c_  0.000  0.000  0.000  0.030  0.000                               \n",
       "mldy_cnt:w_  0.087 -0.014  0.119  0.000 -0.140  0.000                        \n",
       "crtcl_cnt:_  0.000  0.000  0.000 -0.030  0.000  0.196       0.000            \n",
       "mldy_cn:_:_  0.000  0.000  0.000  0.210  0.000  0.140       0.000      -0.140"
      ]
     },
     "metadata": {},
     "output_type": "display_data"
    }
   ],
   "source": [
    "m6 <- lmer(charge ~ mail_cent + mailday_cent*critical_cent*weekday_cent + (1|ID),data=df)\n",
    "summary(m6)"
   ]
  },
  {
   "cell_type": "markdown",
   "metadata": {},
   "source": [
    "### Model: `Charge ~ mail*mailday*critical*weekday  + 1|ID`"
   ]
  },
  {
   "cell_type": "code",
   "execution_count": 12,
   "metadata": {
    "ExecuteTime": {
     "end_time": "2021-02-09T14:32:30.840817Z",
     "start_time": "2021-02-09T14:32:16.860Z"
    }
   },
   "outputs": [
    {
     "name": "stderr",
     "output_type": "stream",
     "text": [
      "fixed-effect model matrix is rank deficient so dropping 4 columns / coefficients\n",
      "\n"
     ]
    },
    {
     "data": {
      "text/plain": [
       "Linear mixed model fit by REML. t-tests use Satterthwaite's method [\n",
       "lmerModLmerTest]\n",
       "Formula: charge ~ mail_cent * mailday_cent * critical_cent * weekday_cent +  \n",
       "    (1 | ID)\n",
       "   Data: df\n",
       "\n",
       "REML criterion at convergence: 82360.7\n",
       "\n",
       "Scaled residuals: \n",
       "   Min     1Q Median     3Q    Max \n",
       "-2.868 -0.057 -0.005  0.026 40.295 \n",
       "\n",
       "Random effects:\n",
       " Groups   Name        Variance Std.Dev.\n",
       " ID       (Intercept) 0.07607  0.2758  \n",
       " Residual             1.24853  1.1174  \n",
       "Number of obs: 26712, groups:  ID, 318\n",
       "\n",
       "Fixed effects:\n",
       "                                          Estimate Std. Error         df\n",
       "(Intercept)                              9.010e-02  1.697e-02  3.218e+02\n",
       "mail_cent                                2.474e-01  2.595e-02  2.656e+04\n",
       "mailday_cent                            -3.687e-02  1.993e-02  2.646e+04\n",
       "critical_cent                            2.221e-02  1.399e-02  2.638e+04\n",
       "weekday_cent                            -2.197e-03  1.531e-02  2.638e+04\n",
       "mail_cent:critical_cent                  3.449e-01  5.140e-02  2.638e+04\n",
       "mailday_cent:critical_cent               9.796e-03  3.971e-02  2.638e+04\n",
       "mail_cent:weekday_cent                  -1.041e-01  4.981e-02  2.655e+04\n",
       "mailday_cent:weekday_cent               -4.588e-02  3.953e-02  2.645e+04\n",
       "critical_cent:weekday_cent              -4.866e-02  3.062e-02  2.638e+04\n",
       "mail_cent:critical_cent:weekday_cent    -2.956e-01  9.866e-02  2.638e+04\n",
       "mailday_cent:critical_cent:weekday_cent  4.834e-02  7.877e-02  2.638e+04\n",
       "                                        t value Pr(>|t|)    \n",
       "(Intercept)                               5.308 2.07e-07 ***\n",
       "mail_cent                                 9.532  < 2e-16 ***\n",
       "mailday_cent                             -1.849  0.06441 .  \n",
       "critical_cent                             1.588  0.11228    \n",
       "weekday_cent                             -0.143  0.88593    \n",
       "mail_cent:critical_cent                   6.709 1.99e-11 ***\n",
       "mailday_cent:critical_cent                0.247  0.80515    \n",
       "mail_cent:weekday_cent                   -2.090  0.03667 *  \n",
       "mailday_cent:weekday_cent                -1.161  0.24579    \n",
       "critical_cent:weekday_cent               -1.589  0.11212    \n",
       "mail_cent:critical_cent:weekday_cent     -2.996  0.00274 ** \n",
       "mailday_cent:critical_cent:weekday_cent   0.614  0.53946    \n",
       "---\n",
       "Signif. codes:  0 ‘***’ 0.001 ‘**’ 0.01 ‘*’ 0.05 ‘.’ 0.1 ‘ ’ 1\n",
       "\n",
       "Correlation of Fixed Effects:\n",
       "            (Intr) ml_cnt mldy_c crtcl_ wkdy_c ml_cnt:c_ mldy_cnt:c_ ml_cnt:w_\n",
       "mail_cent   -0.002                                                            \n",
       "mailday_cnt  0.011 -0.640                                                     \n",
       "criticl_cnt  0.000  0.000  0.000                                              \n",
       "weekday_cnt -0.012 -0.008  0.156  0.000                                       \n",
       "ml_cnt:crt_  0.000  0.000  0.000 -0.005  0.000                                \n",
       "mldy_cnt:c_  0.000  0.000  0.000  0.026  0.000 -0.636                         \n",
       "ml_cnt:wkd_ -0.004  0.291 -0.195  0.000  0.001  0.000     0.000               \n",
       "mldy_cnt:w_  0.071 -0.189  0.211  0.000 -0.112  0.000     0.000      -0.612   \n",
       "crtcl_cnt:_  0.000  0.000  0.000 -0.030  0.000 -0.008     0.156       0.000   \n",
       "ml_cnt:c_:_  0.000  0.000  0.000 -0.009  0.000  0.291    -0.194       0.000   \n",
       "mldy_cn:_:_  0.000  0.000  0.000  0.173  0.000 -0.187     0.210       0.000   \n",
       "            mldy_cnt:w_ crt_:_ ml_c:_:_\n",
       "mail_cent                              \n",
       "mailday_cnt                            \n",
       "criticl_cnt                            \n",
       "weekday_cnt                            \n",
       "ml_cnt:crt_                            \n",
       "mldy_cnt:c_                            \n",
       "ml_cnt:wkd_                            \n",
       "mldy_cnt:w_                            \n",
       "crtcl_cnt:_  0.000                     \n",
       "ml_cnt:c_:_  0.000       0.001         \n",
       "mldy_cn:_:_  0.000      -0.112 -0.608  \n",
       "fit warnings:\n",
       "fixed-effect model matrix is rank deficient so dropping 4 columns / coefficients"
      ]
     },
     "metadata": {},
     "output_type": "display_data"
    }
   ],
   "source": [
    "m7 <- lmer(charge ~ mail_cent*mailday_cent*critical_cent*weekday_cent + (1|ID),data=df)\n",
    "summary(m7)"
   ]
  },
  {
   "cell_type": "code",
   "execution_count": 13,
   "metadata": {
    "ExecuteTime": {
     "end_time": "2021-02-09T14:32:32.318736Z",
     "start_time": "2021-02-09T14:32:16.871Z"
    }
   },
   "outputs": [
    {
     "data": {
      "text/plain": [
       "Linear mixed model fit by REML. t-tests use Satterthwaite's method [\n",
       "lmerModLmerTest]\n",
       "Formula: charge ~ mail_cent + mailday_cent + critical_cent + weekday_cent +  \n",
       "    (1 | ID)\n",
       "   Data: df\n",
       "\n",
       "REML criterion at convergence: 82464.2\n",
       "\n",
       "Scaled residuals: \n",
       "   Min     1Q Median     3Q    Max \n",
       "-3.018 -0.153  0.000  0.024 40.237 \n",
       "\n",
       "Random effects:\n",
       " Groups   Name        Variance Std.Dev.\n",
       " ID       (Intercept) 0.07599  0.2757  \n",
       " Residual             1.25455  1.1201  \n",
       "Number of obs: 26712, groups:  ID, 318\n",
       "\n",
       "Fixed effects:\n",
       "                Estimate Std. Error         df t value Pr(>|t|)    \n",
       "(Intercept)    9.450e-02  1.691e-02  3.170e+02   5.589 4.94e-08 ***\n",
       "mail_cent      2.621e-01  2.489e-02  2.656e+04  10.533  < 2e-16 ***\n",
       "mailday_cent  -3.784e-02  1.946e-02  2.646e+04  -1.944   0.0519 .  \n",
       "critical_cent  2.631e-02  1.371e-02  2.639e+04   1.920   0.0549 .  \n",
       "weekday_cent  -8.773e-03  1.520e-02  2.639e+04  -0.577   0.5638    \n",
       "---\n",
       "Signif. codes:  0 ‘***’ 0.001 ‘**’ 0.01 ‘*’ 0.05 ‘.’ 0.1 ‘ ’ 1\n",
       "\n",
       "Correlation of Fixed Effects:\n",
       "            (Intr) ml_cnt mldy_c crtcl_\n",
       "mail_cent    0.000                     \n",
       "mailday_cnt  0.000 -0.625              \n",
       "criticl_cnt  0.000  0.000  0.000       \n",
       "weekday_cnt  0.000 -0.011  0.179  0.000"
      ]
     },
     "metadata": {},
     "output_type": "display_data"
    }
   ],
   "source": [
    "m71 <- lmer(charge ~ mail_cent+mailday_cent+critical_cent+weekday_cent + (1|ID),data=df)\n",
    "summary(m71)"
   ]
  },
  {
   "cell_type": "markdown",
   "metadata": {},
   "source": [
    "## No mail"
   ]
  },
  {
   "cell_type": "markdown",
   "metadata": {},
   "source": [
    "### Model: `Charge ~ mailday*critical*weekday + 1|ID`"
   ]
  },
  {
   "cell_type": "code",
   "execution_count": 14,
   "metadata": {
    "ExecuteTime": {
     "end_time": "2021-02-09T14:32:33.685143Z",
     "start_time": "2021-02-09T14:32:16.881Z"
    }
   },
   "outputs": [
    {
     "data": {
      "text/plain": [
       "Linear mixed model fit by REML. t-tests use Satterthwaite's method [\n",
       "lmerModLmerTest]\n",
       "Formula: charge ~ mailday_cent * critical_cent * weekday_cent + (1 | ID)\n",
       "   Data: df_nomail\n",
       "\n",
       "REML criterion at convergence: 60363.2\n",
       "\n",
       "Scaled residuals: \n",
       "   Min     1Q Median     3Q    Max \n",
       "-3.471 -0.047 -0.006 -0.003 49.701 \n",
       "\n",
       "Random effects:\n",
       " Groups   Name        Variance Std.Dev.\n",
       " ID       (Intercept) 0.05667  0.2381  \n",
       " Residual             0.81567  0.9031  \n",
       "Number of obs: 22686, groups:  ID, 318\n",
       "\n",
       "Fixed effects:\n",
       "                                          Estimate Std. Error         df\n",
       "(Intercept)                              5.326e-02  1.485e-02  3.451e+02\n",
       "mailday_cent                            -3.542e-02  1.612e-02  2.245e+04\n",
       "critical_cent                           -2.977e-02  1.295e-02  2.237e+04\n",
       "weekday_cent                             1.369e-02  1.378e-02  2.241e+04\n",
       "mailday_cent:critical_cent               9.796e-03  3.209e-02  2.237e+04\n",
       "mailday_cent:weekday_cent               -4.523e-02  3.197e-02  2.244e+04\n",
       "critical_cent:weekday_cent              -4.107e-03  2.750e-02  2.237e+04\n",
       "mailday_cent:critical_cent:weekday_cent  4.834e-02  6.367e-02  2.237e+04\n",
       "                                        t value Pr(>|t|)    \n",
       "(Intercept)                               3.588 0.000382 ***\n",
       "mailday_cent                             -2.197 0.028051 *  \n",
       "critical_cent                            -2.298 0.021574 *  \n",
       "weekday_cent                              0.993 0.320530    \n",
       "mailday_cent:critical_cent                0.305 0.760210    \n",
       "mailday_cent:weekday_cent                -1.415 0.157111    \n",
       "critical_cent:weekday_cent               -0.149 0.881293    \n",
       "mailday_cent:critical_cent:weekday_cent   0.759 0.447741    \n",
       "---\n",
       "Signif. codes:  0 ‘***’ 0.001 ‘**’ 0.01 ‘*’ 0.05 ‘.’ 0.1 ‘ ’ 1\n",
       "\n",
       "Correlation of Fixed Effects:\n",
       "            (Intr) mldy_c crtcl_ wkdy_c mldy_cnt:c_ mldy_cnt:w_ crt_:_\n",
       "mailday_cnt 0.147                                                     \n",
       "criticl_cnt 0.000  0.000                                              \n",
       "weekday_cnt 0.020  0.226  0.000                                       \n",
       "mldy_cnt:c_ 0.000  0.000  0.331  0.000                                \n",
       "mldy_cnt:w_ 0.106  0.212  0.000  0.170  0.000                         \n",
       "crtcl_cnt:_ 0.000  0.000  0.045  0.000  0.225       0.000             \n",
       "mldy_cn:_:_ 0.000  0.000  0.241  0.000  0.210       0.000       0.165 "
      ]
     },
     "metadata": {},
     "output_type": "display_data"
    }
   ],
   "source": [
    "m8 <- lmer(charge ~ mailday_cent*critical_cent*weekday_cent + (1|ID),data=df_nomail)\n",
    "summary(m8)"
   ]
  },
  {
   "cell_type": "markdown",
   "metadata": {},
   "source": [
    "### Model: `Charge ~ mailday+critical+weekday + 1|ID`"
   ]
  },
  {
   "cell_type": "code",
   "execution_count": 15,
   "metadata": {
    "ExecuteTime": {
     "end_time": "2021-02-09T14:32:34.966340Z",
     "start_time": "2021-02-09T14:32:16.888Z"
    }
   },
   "outputs": [
    {
     "data": {
      "text/plain": [
       "Linear mixed model fit by REML. t-tests use Satterthwaite's method [\n",
       "lmerModLmerTest]\n",
       "Formula: charge ~ mailday_cent + critical_cent + weekday_cent + (1 | ID)\n",
       "   Data: df_nomail\n",
       "\n",
       "REML criterion at convergence: 60346.7\n",
       "\n",
       "Scaled residuals: \n",
       "   Min     1Q Median     3Q    Max \n",
       "-3.465 -0.041 -0.009 -0.004 49.708 \n",
       "\n",
       "Random effects:\n",
       " Groups   Name        Variance Std.Dev.\n",
       " ID       (Intercept) 0.05668  0.2381  \n",
       " Residual             0.81562  0.9031  \n",
       "Number of obs: 22686, groups:  ID, 318\n",
       "\n",
       "Fixed effects:\n",
       "                Estimate Std. Error         df t value Pr(>|t|)    \n",
       "(Intercept)    5.548e-02  1.476e-02  3.374e+02   3.758 0.000202 ***\n",
       "mailday_cent  -3.059e-02  1.576e-02  2.245e+04  -1.941 0.052227 .  \n",
       "critical_cent -3.290e-02  1.199e-02  2.237e+04  -2.744 0.006082 ** \n",
       "weekday_cent   1.700e-02  1.358e-02  2.240e+04   1.252 0.210616    \n",
       "---\n",
       "Signif. codes:  0 ‘***’ 0.001 ‘**’ 0.01 ‘*’ 0.05 ‘.’ 0.1 ‘ ’ 1\n",
       "\n",
       "Correlation of Fixed Effects:\n",
       "            (Intr) mldy_c crtcl_\n",
       "mailday_cnt 0.128               \n",
       "criticl_cnt 0.000  0.000        \n",
       "weekday_cnt 0.003  0.197  0.000 "
      ]
     },
     "metadata": {},
     "output_type": "display_data"
    }
   ],
   "source": [
    "m9 <- lmer(charge ~ mailday_cent+critical_cent+weekday_cent + (1|ID),data=df_nomail)\n",
    "summary(m9)"
   ]
  },
  {
   "cell_type": "code",
   "execution_count": null,
   "metadata": {},
   "outputs": [],
   "source": []
  }
 ],
 "metadata": {
  "kernelspec": {
   "display_name": "R",
   "language": "R",
   "name": "ir"
  },
  "language_info": {
   "codemirror_mode": "r",
   "file_extension": ".r",
   "mimetype": "text/x-r-source",
   "name": "R",
   "pygments_lexer": "r",
   "version": "3.6.3"
  },
  "toc": {
   "base_numbering": 1,
   "nav_menu": {},
   "number_sections": true,
   "sideBar": true,
   "skip_h1_title": false,
   "title_cell": "Table of Contents",
   "title_sidebar": "Contents",
   "toc_cell": false,
   "toc_position": {},
   "toc_section_display": true,
   "toc_window_display": false
  }
 },
 "nbformat": 4,
 "nbformat_minor": 4
}
